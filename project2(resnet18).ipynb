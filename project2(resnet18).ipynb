{
 "cells": [
  {
   "cell_type": "markdown",
   "metadata": {},
   "source": [
    "## Project 2 "
   ]
  },
  {
   "cell_type": "code",
   "execution_count": 1,
   "metadata": {
    "collapsed": true
   },
   "outputs": [],
   "source": [
    "# import stuff\n",
    "import time\n",
    "import os\n",
    "\n",
    "import numpy as np\n",
    "import torch\n",
    "import torch.optim as optim\n",
    "from torch import nn\n",
    "from torch.autograd import Variable\n",
    "\n",
    "import torchvision\n",
    "import torchvision.models as models\n",
    "import torch.utils.model_zoo as model_zoo\n",
    "import torchvision.transforms as transforms\n",
    "from torchvision import datasets\n",
    "\n",
    "from itertools import accumulate\n",
    "from functools import reduce"
   ]
  },
  {
   "cell_type": "code",
   "execution_count": 2,
   "metadata": {
    "collapsed": true
   },
   "outputs": [],
   "source": [
    "import torch\n",
    "import torchvision\n",
    "import torchvision.transforms as transforms\n",
    "\n",
    "data_transforms = {\n",
    "    \n",
    "    'train': transforms.Compose([\n",
    "    transforms.Resize((224,224)),\n",
    "    transforms.RandomHorizontalFlip(),\n",
    "    transforms.ToTensor(),\n",
    "    transforms.Normalize((0.485, 0.456, 0.406), (0.229, 0.224, 0.225))\n",
    "    ]), \n",
    "    \n",
    "    'val': transforms.Compose([\n",
    "    transforms.Resize(256),\n",
    "    transforms.CenterCrop(224),\n",
    "    transforms.ToTensor(),\n",
    "    transforms.Normalize((0.485, 0.456, 0.406), (0.229, 0.224, 0.225))\n",
    "    ]), \n",
    "\n",
    "\n",
    "}"
   ]
  },
  {
   "cell_type": "markdown",
   "metadata": {},
   "source": [
    "### Loading the Dataset"
   ]
  },
  {
   "cell_type": "code",
   "execution_count": 3,
   "metadata": {},
   "outputs": [
    {
     "name": "stdout",
     "output_type": "stream",
     "text": [
      "Classes = ['apple', 'avocado', 'banana', 'blueberry', 'cherry', 'dragonfruit', 'grape', 'kiwifruit', 'lemon', 'orange', 'papaya', 'peach', 'pear', 'pineapple', 'plum', 'pomegranate', 'rockmelon', 'strawberry']\n",
      "Num of Classes = 18\n",
      "There are 605 iterations in the training set\n",
      "There are 89 iterations in the valdation set\n",
      "There are 2417 training images\n",
      "There are 355 validation images\n"
     ]
    }
   ],
   "source": [
    "data_dir = 'release'\n",
    "# create a dictionary that contains train and val\n",
    "list_set = ['train','val']\n",
    "\n",
    "image_datasets = {x: datasets.ImageFolder(os.path.join(data_dir,x), data_transforms[x]) for x in list_set}\n",
    "\n",
    "dataloaders = {x: torch.utils.data.DataLoader(image_datasets[x], batch_size = 4, shuffle= True) for x in list_set}\n",
    "\n",
    "trainloader, valloader = dataloaders[list_set[0]], dataloaders[list_set[1]]\n",
    "\n",
    "dataset_sizes = {x: len(image_datasets[x]) for x in list_set}\n",
    "\n",
    "class_names = image_datasets[list_set[0]].classes\n",
    "\n",
    "print(\"Classes = {}\".format(class_names))\n",
    "print(\"Num of Classes = {}\".format(len(class_names)))\n",
    "print(\"There are {} iterations in the training set\".format(len(dataloaders[list_set[0]])))\n",
    "print(\"There are {} iterations in the valdation set\".format(len(dataloaders[list_set[1]])))\n",
    "print(\"There are {} training images\".format(dataset_sizes[list_set[0]]))\n",
    "print(\"There are {} validation images\".format(dataset_sizes[list_set[1]]))"
   ]
  },
  {
   "cell_type": "markdown",
   "metadata": {},
   "source": [
    "### Loading the Resnet"
   ]
  },
  {
   "cell_type": "code",
   "execution_count": 4,
   "metadata": {},
   "outputs": [
    {
     "name": "stdout",
     "output_type": "stream",
     "text": [
      "ResNet(\n",
      "  (conv1): Conv2d(3, 64, kernel_size=(7, 7), stride=(2, 2), padding=(3, 3), bias=False)\n",
      "  (bn1): BatchNorm2d(64, eps=1e-05, momentum=0.1, affine=True, track_running_stats=True)\n",
      "  (relu): ReLU(inplace)\n",
      "  (maxpool): MaxPool2d(kernel_size=3, stride=2, padding=1, dilation=1, ceil_mode=False)\n",
      "  (layer1): Sequential(\n",
      "    (0): BasicBlock(\n",
      "      (conv1): Conv2d(64, 64, kernel_size=(3, 3), stride=(1, 1), padding=(1, 1), bias=False)\n",
      "      (bn1): BatchNorm2d(64, eps=1e-05, momentum=0.1, affine=True, track_running_stats=True)\n",
      "      (relu): ReLU(inplace)\n",
      "      (conv2): Conv2d(64, 64, kernel_size=(3, 3), stride=(1, 1), padding=(1, 1), bias=False)\n",
      "      (bn2): BatchNorm2d(64, eps=1e-05, momentum=0.1, affine=True, track_running_stats=True)\n",
      "    )\n",
      "    (1): BasicBlock(\n",
      "      (conv1): Conv2d(64, 64, kernel_size=(3, 3), stride=(1, 1), padding=(1, 1), bias=False)\n",
      "      (bn1): BatchNorm2d(64, eps=1e-05, momentum=0.1, affine=True, track_running_stats=True)\n",
      "      (relu): ReLU(inplace)\n",
      "      (conv2): Conv2d(64, 64, kernel_size=(3, 3), stride=(1, 1), padding=(1, 1), bias=False)\n",
      "      (bn2): BatchNorm2d(64, eps=1e-05, momentum=0.1, affine=True, track_running_stats=True)\n",
      "    )\n",
      "  )\n",
      "  (layer2): Sequential(\n",
      "    (0): BasicBlock(\n",
      "      (conv1): Conv2d(64, 128, kernel_size=(3, 3), stride=(2, 2), padding=(1, 1), bias=False)\n",
      "      (bn1): BatchNorm2d(128, eps=1e-05, momentum=0.1, affine=True, track_running_stats=True)\n",
      "      (relu): ReLU(inplace)\n",
      "      (conv2): Conv2d(128, 128, kernel_size=(3, 3), stride=(1, 1), padding=(1, 1), bias=False)\n",
      "      (bn2): BatchNorm2d(128, eps=1e-05, momentum=0.1, affine=True, track_running_stats=True)\n",
      "      (downsample): Sequential(\n",
      "        (0): Conv2d(64, 128, kernel_size=(1, 1), stride=(2, 2), bias=False)\n",
      "        (1): BatchNorm2d(128, eps=1e-05, momentum=0.1, affine=True, track_running_stats=True)\n",
      "      )\n",
      "    )\n",
      "    (1): BasicBlock(\n",
      "      (conv1): Conv2d(128, 128, kernel_size=(3, 3), stride=(1, 1), padding=(1, 1), bias=False)\n",
      "      (bn1): BatchNorm2d(128, eps=1e-05, momentum=0.1, affine=True, track_running_stats=True)\n",
      "      (relu): ReLU(inplace)\n",
      "      (conv2): Conv2d(128, 128, kernel_size=(3, 3), stride=(1, 1), padding=(1, 1), bias=False)\n",
      "      (bn2): BatchNorm2d(128, eps=1e-05, momentum=0.1, affine=True, track_running_stats=True)\n",
      "    )\n",
      "  )\n",
      "  (layer3): Sequential(\n",
      "    (0): BasicBlock(\n",
      "      (conv1): Conv2d(128, 256, kernel_size=(3, 3), stride=(2, 2), padding=(1, 1), bias=False)\n",
      "      (bn1): BatchNorm2d(256, eps=1e-05, momentum=0.1, affine=True, track_running_stats=True)\n",
      "      (relu): ReLU(inplace)\n",
      "      (conv2): Conv2d(256, 256, kernel_size=(3, 3), stride=(1, 1), padding=(1, 1), bias=False)\n",
      "      (bn2): BatchNorm2d(256, eps=1e-05, momentum=0.1, affine=True, track_running_stats=True)\n",
      "      (downsample): Sequential(\n",
      "        (0): Conv2d(128, 256, kernel_size=(1, 1), stride=(2, 2), bias=False)\n",
      "        (1): BatchNorm2d(256, eps=1e-05, momentum=0.1, affine=True, track_running_stats=True)\n",
      "      )\n",
      "    )\n",
      "    (1): BasicBlock(\n",
      "      (conv1): Conv2d(256, 256, kernel_size=(3, 3), stride=(1, 1), padding=(1, 1), bias=False)\n",
      "      (bn1): BatchNorm2d(256, eps=1e-05, momentum=0.1, affine=True, track_running_stats=True)\n",
      "      (relu): ReLU(inplace)\n",
      "      (conv2): Conv2d(256, 256, kernel_size=(3, 3), stride=(1, 1), padding=(1, 1), bias=False)\n",
      "      (bn2): BatchNorm2d(256, eps=1e-05, momentum=0.1, affine=True, track_running_stats=True)\n",
      "    )\n",
      "  )\n",
      "  (layer4): Sequential(\n",
      "    (0): BasicBlock(\n",
      "      (conv1): Conv2d(256, 512, kernel_size=(3, 3), stride=(2, 2), padding=(1, 1), bias=False)\n",
      "      (bn1): BatchNorm2d(512, eps=1e-05, momentum=0.1, affine=True, track_running_stats=True)\n",
      "      (relu): ReLU(inplace)\n",
      "      (conv2): Conv2d(512, 512, kernel_size=(3, 3), stride=(1, 1), padding=(1, 1), bias=False)\n",
      "      (bn2): BatchNorm2d(512, eps=1e-05, momentum=0.1, affine=True, track_running_stats=True)\n",
      "      (downsample): Sequential(\n",
      "        (0): Conv2d(256, 512, kernel_size=(1, 1), stride=(2, 2), bias=False)\n",
      "        (1): BatchNorm2d(512, eps=1e-05, momentum=0.1, affine=True, track_running_stats=True)\n",
      "      )\n",
      "    )\n",
      "    (1): BasicBlock(\n",
      "      (conv1): Conv2d(512, 512, kernel_size=(3, 3), stride=(1, 1), padding=(1, 1), bias=False)\n",
      "      (bn1): BatchNorm2d(512, eps=1e-05, momentum=0.1, affine=True, track_running_stats=True)\n",
      "      (relu): ReLU(inplace)\n",
      "      (conv2): Conv2d(512, 512, kernel_size=(3, 3), stride=(1, 1), padding=(1, 1), bias=False)\n",
      "      (bn2): BatchNorm2d(512, eps=1e-05, momentum=0.1, affine=True, track_running_stats=True)\n",
      "    )\n",
      "  )\n",
      "  (avgpool): AvgPool2d(kernel_size=7, stride=1, padding=0)\n",
      "  (fc): Linear(in_features=512, out_features=1000, bias=True)\n",
      ")\n"
     ]
    }
   ],
   "source": [
    "net = torchvision.models.resnet18(pretrained=True) # change this to some other model\n",
    "print(net)"
   ]
  },
  {
   "cell_type": "code",
   "execution_count": 5,
   "metadata": {
    "collapsed": true
   },
   "outputs": [],
   "source": [
    "# only train the last layer\n",
    "# freeze all the layers\n",
    "# cancels backpropagation\n",
    "\n",
    "for param in net.parameters():\n",
    "    param.requires_grad = False"
   ]
  },
  {
   "cell_type": "code",
   "execution_count": 6,
   "metadata": {},
   "outputs": [
    {
     "name": "stdout",
     "output_type": "stream",
     "text": [
      "Linear(in_features=512, out_features=18, bias=True)\n"
     ]
    }
   ],
   "source": [
    "num_ftrs = net.fc.in_features # get number of input features of the last fc layer\n",
    "\n",
    "net.fc = nn.Linear(num_ftrs,18) # set the last fc to 18\n",
    "print(net.fc)"
   ]
  },
  {
   "cell_type": "code",
   "execution_count": 7,
   "metadata": {},
   "outputs": [
    {
     "data": {
      "text/plain": [
       "True"
      ]
     },
     "execution_count": 7,
     "metadata": {},
     "output_type": "execute_result"
    }
   ],
   "source": [
    "if torch.cuda.is_available():\n",
    "    net = net.cuda()\n",
    "torch.cuda.is_available()"
   ]
  },
  {
   "cell_type": "markdown",
   "metadata": {},
   "source": [
    "### Define a Loss function and optimizer"
   ]
  },
  {
   "cell_type": "code",
   "execution_count": 8,
   "metadata": {},
   "outputs": [
    {
     "name": "stdout",
     "output_type": "stream",
     "text": [
      "SGD (\n",
      "Parameter Group 0\n",
      "    dampening: 0\n",
      "    lr: 0.001\n",
      "    momentum: 0.9\n",
      "    nesterov: False\n",
      "    weight_decay: 0\n",
      ")\n"
     ]
    }
   ],
   "source": [
    "import torch.optim as optim\n",
    "\n",
    "criterion = nn.CrossEntropyLoss()\n",
    "optimizer = optim.SGD(net.fc.parameters(), lr=0.001, momentum=0.9)\n",
    "\n",
    "print(optimizer)"
   ]
  },
  {
   "cell_type": "code",
   "execution_count": 9,
   "metadata": {},
   "outputs": [
    {
     "name": "stdout",
     "output_type": "stream",
     "text": [
      "[0.001]\n"
     ]
    }
   ],
   "source": [
    "# lr scheduler\n",
    "scheduler = torch.optim.lr_scheduler.StepLR(optimizer, step_size=7, gamma=0.1)\n",
    "# step_size = 7: change learning rate every 7 epochs.\n",
    "# gamma = 0.1: learning rate * gamma when changing.\n",
    "print(scheduler.base_lrs)"
   ]
  },
  {
   "cell_type": "markdown",
   "metadata": {},
   "source": [
    "### Visualise the Training"
   ]
  },
  {
   "cell_type": "code",
   "execution_count": 10,
   "metadata": {},
   "outputs": [
    {
     "name": "stdout",
     "output_type": "stream",
     "text": [
      "For one iteration this is what happens = \n",
      "Input Shape:  torch.Size([4, 3, 224, 224])\n",
      "Labels Shape:  torch.Size([4])\n",
      "Labels are: tensor([14,  5, 17, 12], device='cuda:0')\n",
      "Output Tensor: tensor([[-0.2470,  0.9582,  1.1091,  0.0949,  0.6706,  0.5504,  0.8147,  1.6498,\n",
      "         -0.3519,  0.5306,  1.4380, -1.0756, -0.3969, -0.0533, -0.2061, -0.6678,\n",
      "          0.2039,  0.9411],\n",
      "        [ 0.1736,  1.1139,  1.0855, -0.0899,  0.0478,  0.4321,  0.4092,  0.4855,\n",
      "          0.2649, -0.9175,  0.3906, -0.6433, -0.4378, -0.3487,  0.0768, -0.8410,\n",
      "         -0.3813,  0.3849],\n",
      "        [-0.4814,  0.5118,  0.9943,  0.1378, -0.2127, -0.2138,  0.3248,  0.8318,\n",
      "          0.1541, -0.3009,  0.6691,  0.5762,  0.2864, -0.7835, -0.1675, -0.3487,\n",
      "          0.3987,  0.0219],\n",
      "        [ 0.0606,  1.4609,  0.8728, -0.3367,  0.8094,  0.1490,  0.7602,  1.2222,\n",
      "          0.3726, -1.2403,  0.6626, -0.6077, -0.3953,  0.9263,  0.4199, -0.7491,\n",
      "         -0.4762,  0.2382]], device='cuda:0', grad_fn=<ThAddmmBackward>)\n",
      "Output Shape:  torch.Size([4, 18])\n",
      "Predicted: tensor([7, 1, 2, 1], device='cuda:0')\n",
      "Predicted Shape: torch.Size([4])\n",
      "Correct Predictions: tensor(0, device='cuda:0')\n"
     ]
    }
   ],
   "source": [
    "iteration = 0\n",
    "correct = 0\n",
    "\n",
    "for inputs, labels in dataloaders['train']:\n",
    "    \n",
    "    if iteration ==1:\n",
    "        break\n",
    "        \n",
    "    inputs = Variable(inputs)\n",
    "    labels = Variable(labels)\n",
    "    \n",
    "    if torch.cuda.is_available():\n",
    "        inputs = Variable(inputs).cuda()\n",
    "        labels = Variable(labels).cuda()    \n",
    "        \n",
    "    print(\"For one iteration this is what happens = \")\n",
    "    print(\"Input Shape: \",inputs.shape)\n",
    "    print(\"Labels Shape: \",labels.shape)\n",
    "    print(\"Labels are: {}\".format(labels))\n",
    "    \n",
    "    \n",
    "    if torch.cuda.is_available():\n",
    "        net = net.cuda()\n",
    "    output = net(inputs)\n",
    "    \n",
    "    print(\"Output Tensor:\",output)\n",
    "    print(\"Output Shape: \",output.shape)\n",
    "    \n",
    "    _, predicted = torch.max(output,1)\n",
    "    \n",
    "    print(\"Predicted:\",predicted)\n",
    "    print(\"Predicted Shape:\",predicted.shape)\n",
    "    \n",
    "    correct += (predicted==labels).sum()\n",
    "    \n",
    "    print(\"Correct Predictions:\",correct)\n",
    "    \n",
    "    iteration+=1"
   ]
  },
  {
   "cell_type": "markdown",
   "metadata": {},
   "source": [
    "### Train the Network"
   ]
  },
  {
   "cell_type": "code",
   "execution_count": 11,
   "metadata": {},
   "outputs": [
    {
     "name": "stdout",
     "output_type": "stream",
     "text": [
      "[1,    50] running loss: 2.974\n",
      "[1,   100] running loss: 2.790\n",
      "[1,   150] running loss: 2.382\n",
      "[1,   200] running loss: 2.338\n",
      "[1,   250] running loss: 1.991\n",
      "[1,   300] running loss: 1.738\n",
      "[1,   350] running loss: 1.709\n",
      "[1,   400] running loss: 1.581\n",
      "[1,   450] running loss: 1.567\n",
      "[1,   500] running loss: 1.474\n",
      "[1,   550] running loss: 1.592\n",
      "[1,   600] running loss: 1.324\n",
      "[1,    10] validation loss: 1.477\n",
      "[1,    20] validation loss: 1.286\n",
      "[1,    30] validation loss: 1.144\n",
      "[1,    40] validation loss: 1.364\n",
      "[1,    50] validation loss: 1.474\n",
      "[1,    60] validation loss: 1.210\n",
      "[1,    70] validation loss: 1.134\n",
      "[1,    80] validation loss: 1.351\n",
      "Test Accuracy: 63.662%\n",
      "[2,    50] running loss: 1.244\n",
      "[2,   100] running loss: 1.212\n",
      "[2,   150] running loss: 1.311\n",
      "[2,   200] running loss: 1.324\n",
      "[2,   250] running loss: 1.305\n",
      "[2,   300] running loss: 1.208\n",
      "[2,   350] running loss: 1.099\n",
      "[2,   400] running loss: 1.207\n",
      "[2,   450] running loss: 1.209\n",
      "[2,   500] running loss: 1.221\n",
      "[2,   550] running loss: 1.157\n",
      "[2,   600] running loss: 1.106\n",
      "[2,    10] validation loss: 0.868\n",
      "[2,    20] validation loss: 1.173\n",
      "[2,    30] validation loss: 1.264\n",
      "[2,    40] validation loss: 1.136\n",
      "[2,    50] validation loss: 0.822\n",
      "[2,    60] validation loss: 1.028\n",
      "[2,    70] validation loss: 0.998\n",
      "[2,    80] validation loss: 1.228\n",
      "Test Accuracy: 65.070%\n",
      "[3,    50] running loss: 1.104\n",
      "[3,   100] running loss: 1.033\n",
      "[3,   150] running loss: 1.083\n",
      "[3,   200] running loss: 0.973\n",
      "[3,   250] running loss: 1.218\n",
      "[3,   300] running loss: 0.971\n",
      "[3,   350] running loss: 0.941\n",
      "[3,   400] running loss: 1.026\n",
      "[3,   450] running loss: 0.956\n",
      "[3,   500] running loss: 0.954\n",
      "[3,   550] running loss: 0.921\n",
      "[3,   600] running loss: 0.937\n",
      "[3,    10] validation loss: 1.081\n",
      "[3,    20] validation loss: 0.744\n",
      "[3,    30] validation loss: 0.828\n",
      "[3,    40] validation loss: 0.956\n",
      "[3,    50] validation loss: 0.780\n",
      "[3,    60] validation loss: 0.822\n",
      "[3,    70] validation loss: 0.790\n",
      "[3,    80] validation loss: 1.177\n",
      "Test Accuracy: 73.803%\n",
      "[4,    50] running loss: 0.851\n",
      "[4,   100] running loss: 1.090\n",
      "[4,   150] running loss: 0.891\n",
      "[4,   200] running loss: 0.816\n",
      "[4,   250] running loss: 0.865\n",
      "[4,   300] running loss: 0.895\n",
      "[4,   350] running loss: 0.980\n",
      "[4,   400] running loss: 0.967\n",
      "[4,   450] running loss: 0.979\n",
      "[4,   500] running loss: 0.843\n",
      "[4,   550] running loss: 1.004\n",
      "[4,   600] running loss: 0.909\n",
      "[4,    10] validation loss: 1.211\n",
      "[4,    20] validation loss: 1.025\n",
      "[4,    30] validation loss: 0.609\n",
      "[4,    40] validation loss: 0.632\n",
      "[4,    50] validation loss: 0.883\n",
      "[4,    60] validation loss: 0.948\n",
      "[4,    70] validation loss: 0.956\n",
      "[4,    80] validation loss: 0.785\n",
      "Test Accuracy: 72.394%\n",
      "[5,    50] running loss: 0.838\n",
      "[5,   100] running loss: 0.787\n",
      "[5,   150] running loss: 0.835\n",
      "[5,   200] running loss: 0.838\n",
      "[5,   250] running loss: 0.873\n",
      "[5,   300] running loss: 0.998\n",
      "[5,   350] running loss: 0.948\n",
      "[5,   400] running loss: 0.901\n",
      "[5,   450] running loss: 0.892\n",
      "[5,   500] running loss: 1.040\n",
      "[5,   550] running loss: 0.828\n",
      "[5,   600] running loss: 0.960\n",
      "[5,    10] validation loss: 0.956\n",
      "[5,    20] validation loss: 0.898\n",
      "[5,    30] validation loss: 1.286\n",
      "[5,    40] validation loss: 0.726\n",
      "[5,    50] validation loss: 0.913\n",
      "[5,    60] validation loss: 0.994\n",
      "[5,    70] validation loss: 0.851\n",
      "[5,    80] validation loss: 0.772\n",
      "Test Accuracy: 72.394%\n",
      "[6,    50] running loss: 1.008\n",
      "[6,   100] running loss: 0.768\n",
      "[6,   150] running loss: 0.791\n",
      "[6,   200] running loss: 0.726\n",
      "[6,   250] running loss: 0.813\n",
      "[6,   300] running loss: 0.854\n",
      "[6,   350] running loss: 0.800\n",
      "[6,   400] running loss: 0.766\n",
      "[6,   450] running loss: 0.785\n",
      "[6,   500] running loss: 0.743\n",
      "[6,   550] running loss: 0.681\n",
      "[6,   600] running loss: 0.852\n",
      "[6,    10] validation loss: 1.139\n",
      "[6,    20] validation loss: 0.754\n",
      "[6,    30] validation loss: 0.877\n",
      "[6,    40] validation loss: 0.752\n",
      "[6,    50] validation loss: 0.520\n",
      "[6,    60] validation loss: 0.732\n",
      "[6,    70] validation loss: 0.937\n",
      "[6,    80] validation loss: 0.687\n",
      "Test Accuracy: 75.493%\n",
      "[7,    50] running loss: 0.909\n",
      "[7,   100] running loss: 0.704\n",
      "[7,   150] running loss: 0.948\n",
      "[7,   200] running loss: 0.875\n",
      "[7,   250] running loss: 0.782\n",
      "[7,   300] running loss: 0.771\n",
      "[7,   350] running loss: 0.725\n",
      "[7,   400] running loss: 0.861\n",
      "[7,   450] running loss: 0.720\n",
      "[7,   500] running loss: 0.954\n",
      "[7,   550] running loss: 0.879\n",
      "[7,   600] running loss: 0.877\n",
      "[7,    10] validation loss: 1.049\n",
      "[7,    20] validation loss: 0.768\n",
      "[7,    30] validation loss: 0.940\n",
      "[7,    40] validation loss: 0.907\n",
      "[7,    50] validation loss: 1.157\n",
      "[7,    60] validation loss: 0.635\n",
      "[7,    70] validation loss: 0.736\n",
      "[7,    80] validation loss: 0.711\n",
      "Test Accuracy: 69.859%\n",
      "[8,    50] running loss: 0.670\n",
      "[8,   100] running loss: 0.631\n",
      "[8,   150] running loss: 0.758\n",
      "[8,   200] running loss: 0.608\n",
      "[8,   250] running loss: 0.855\n",
      "[8,   300] running loss: 0.724\n",
      "[8,   350] running loss: 0.744\n",
      "[8,   400] running loss: 0.597\n",
      "[8,   450] running loss: 0.632\n",
      "[8,   500] running loss: 0.763\n",
      "[8,   550] running loss: 0.678\n",
      "[8,   600] running loss: 0.573\n",
      "[8,    10] validation loss: 0.928\n",
      "[8,    20] validation loss: 0.789\n",
      "[8,    30] validation loss: 0.750\n",
      "[8,    40] validation loss: 1.134\n",
      "[8,    50] validation loss: 0.802\n",
      "[8,    60] validation loss: 0.654\n",
      "[8,    70] validation loss: 0.959\n",
      "[8,    80] validation loss: 0.778\n",
      "Test Accuracy: 72.113%\n",
      "[9,    50] running loss: 0.658\n",
      "[9,   100] running loss: 0.695\n",
      "[9,   150] running loss: 0.486\n",
      "[9,   200] running loss: 0.706\n",
      "[9,   250] running loss: 0.566\n",
      "[9,   300] running loss: 0.771\n",
      "[9,   350] running loss: 0.618\n",
      "[9,   400] running loss: 0.739\n",
      "[9,   450] running loss: 0.608\n",
      "[9,   500] running loss: 0.661\n",
      "[9,   550] running loss: 0.895\n",
      "[9,   600] running loss: 0.584\n",
      "[9,    10] validation loss: 0.767\n",
      "[9,    20] validation loss: 0.614\n",
      "[9,    30] validation loss: 0.751\n",
      "[9,    40] validation loss: 0.472\n",
      "[9,    50] validation loss: 1.075\n",
      "[9,    60] validation loss: 0.557\n",
      "[9,    70] validation loss: 0.961\n",
      "[9,    80] validation loss: 0.807\n",
      "Test Accuracy: 77.465%\n",
      "[10,    50] running loss: 0.568\n",
      "[10,   100] running loss: 0.675\n",
      "[10,   150] running loss: 0.701\n",
      "[10,   200] running loss: 0.834\n",
      "[10,   250] running loss: 0.630\n",
      "[10,   300] running loss: 0.812\n",
      "[10,   350] running loss: 0.711\n",
      "[10,   400] running loss: 0.676\n",
      "[10,   450] running loss: 0.629\n",
      "[10,   500] running loss: 0.780\n",
      "[10,   550] running loss: 0.774\n",
      "[10,   600] running loss: 0.588\n",
      "[10,    10] validation loss: 0.640\n",
      "[10,    20] validation loss: 0.819\n",
      "[10,    30] validation loss: 0.653\n",
      "[10,    40] validation loss: 0.864\n",
      "[10,    50] validation loss: 0.972\n",
      "[10,    60] validation loss: 0.815\n",
      "[10,    70] validation loss: 0.898\n",
      "[10,    80] validation loss: 0.599\n",
      "Test Accuracy: 75.493%\n",
      "[11,    50] running loss: 0.650\n",
      "[11,   100] running loss: 0.667\n",
      "[11,   150] running loss: 0.755\n",
      "[11,   200] running loss: 0.746\n",
      "[11,   250] running loss: 0.747\n",
      "[11,   300] running loss: 0.647\n",
      "[11,   350] running loss: 0.770\n",
      "[11,   400] running loss: 0.579\n",
      "[11,   450] running loss: 0.750\n",
      "[11,   500] running loss: 0.634\n",
      "[11,   550] running loss: 0.678\n",
      "[11,   600] running loss: 0.682\n",
      "[11,    10] validation loss: 1.166\n",
      "[11,    20] validation loss: 0.697\n",
      "[11,    30] validation loss: 0.732\n",
      "[11,    40] validation loss: 0.693\n",
      "[11,    50] validation loss: 0.924\n",
      "[11,    60] validation loss: 0.595\n",
      "[11,    70] validation loss: 0.829\n",
      "[11,    80] validation loss: 0.877\n",
      "Test Accuracy: 73.239%\n",
      "[12,    50] running loss: 0.807\n",
      "[12,   100] running loss: 0.510\n",
      "[12,   150] running loss: 0.688\n",
      "[12,   200] running loss: 0.747\n",
      "[12,   250] running loss: 0.801\n",
      "[12,   300] running loss: 0.701\n",
      "[12,   350] running loss: 0.592\n",
      "[12,   400] running loss: 0.591\n",
      "[12,   450] running loss: 0.662\n",
      "[12,   500] running loss: 0.765\n",
      "[12,   550] running loss: 0.665\n",
      "[12,   600] running loss: 0.690\n",
      "[12,    10] validation loss: 0.586\n",
      "[12,    20] validation loss: 0.701\n",
      "[12,    30] validation loss: 0.613\n",
      "[12,    40] validation loss: 0.925\n",
      "[12,    50] validation loss: 0.806\n",
      "[12,    60] validation loss: 0.806\n",
      "[12,    70] validation loss: 0.990\n",
      "[12,    80] validation loss: 0.969\n",
      "Test Accuracy: 71.831%\n",
      "[13,    50] running loss: 0.789\n",
      "[13,   100] running loss: 0.701\n",
      "[13,   150] running loss: 0.589\n",
      "[13,   200] running loss: 0.636\n",
      "[13,   250] running loss: 0.799\n"
     ]
    },
    {
     "name": "stdout",
     "output_type": "stream",
     "text": [
      "[13,   300] running loss: 0.614\n",
      "[13,   350] running loss: 0.654\n",
      "[13,   400] running loss: 0.585\n",
      "[13,   450] running loss: 0.722\n",
      "[13,   500] running loss: 0.719\n",
      "[13,   550] running loss: 0.549\n",
      "[13,   600] running loss: 0.773\n",
      "[13,    10] validation loss: 0.559\n",
      "[13,    20] validation loss: 0.929\n",
      "[13,    30] validation loss: 0.622\n",
      "[13,    40] validation loss: 0.791\n",
      "[13,    50] validation loss: 0.981\n",
      "[13,    60] validation loss: 0.752\n",
      "[13,    70] validation loss: 1.114\n",
      "[13,    80] validation loss: 0.762\n",
      "Test Accuracy: 74.648%\n",
      "[14,    50] running loss: 0.686\n",
      "[14,   100] running loss: 0.692\n",
      "[14,   150] running loss: 0.747\n",
      "[14,   200] running loss: 0.503\n",
      "[14,   250] running loss: 0.720\n",
      "[14,   300] running loss: 0.562\n",
      "[14,   350] running loss: 0.594\n",
      "[14,   400] running loss: 0.666\n",
      "[14,   450] running loss: 0.692\n",
      "[14,   500] running loss: 0.639\n",
      "[14,   550] running loss: 0.624\n",
      "[14,   600] running loss: 0.602\n",
      "[14,    10] validation loss: 0.979\n",
      "[14,    20] validation loss: 1.023\n",
      "[14,    30] validation loss: 0.906\n",
      "[14,    40] validation loss: 0.630\n",
      "[14,    50] validation loss: 0.797\n",
      "[14,    60] validation loss: 0.459\n",
      "[14,    70] validation loss: 0.732\n",
      "[14,    80] validation loss: 0.549\n",
      "Test Accuracy: 76.338%\n",
      "[15,    50] running loss: 0.546\n",
      "[15,   100] running loss: 0.694\n",
      "[15,   150] running loss: 0.711\n",
      "[15,   200] running loss: 0.658\n",
      "[15,   250] running loss: 0.819\n",
      "[15,   300] running loss: 0.576\n",
      "[15,   350] running loss: 0.713\n",
      "[15,   400] running loss: 0.628\n",
      "[15,   450] running loss: 0.579\n",
      "[15,   500] running loss: 0.735\n",
      "[15,   550] running loss: 0.630\n",
      "[15,   600] running loss: 0.610\n",
      "[15,    10] validation loss: 0.657\n",
      "[15,    20] validation loss: 0.602\n",
      "[15,    30] validation loss: 0.611\n",
      "[15,    40] validation loss: 0.524\n",
      "[15,    50] validation loss: 0.827\n",
      "[15,    60] validation loss: 0.890\n",
      "[15,    70] validation loss: 0.910\n",
      "[15,    80] validation loss: 1.011\n",
      "Test Accuracy: 74.648%\n",
      "[16,    50] running loss: 0.643\n",
      "[16,   100] running loss: 0.483\n",
      "[16,   150] running loss: 0.634\n",
      "[16,   200] running loss: 0.578\n",
      "[16,   250] running loss: 0.680\n",
      "[16,   300] running loss: 0.796\n",
      "[16,   350] running loss: 0.544\n",
      "[16,   400] running loss: 0.758\n",
      "[16,   450] running loss: 0.668\n",
      "[16,   500] running loss: 0.682\n",
      "[16,   550] running loss: 0.638\n",
      "[16,   600] running loss: 0.632\n",
      "[16,    10] validation loss: 0.611\n",
      "[16,    20] validation loss: 0.958\n",
      "[16,    30] validation loss: 0.776\n",
      "[16,    40] validation loss: 0.689\n",
      "[16,    50] validation loss: 0.630\n",
      "[16,    60] validation loss: 0.486\n",
      "[16,    70] validation loss: 0.690\n",
      "[16,    80] validation loss: 0.457\n",
      "Test Accuracy: 78.873%\n",
      "[17,    50] running loss: 0.619\n",
      "[17,   100] running loss: 0.575\n",
      "[17,   150] running loss: 0.666\n",
      "[17,   200] running loss: 0.629\n",
      "[17,   250] running loss: 0.673\n",
      "[17,   300] running loss: 0.712\n",
      "[17,   350] running loss: 0.624\n",
      "[17,   400] running loss: 0.679\n",
      "[17,   450] running loss: 0.705\n",
      "[17,   500] running loss: 0.726\n",
      "[17,   550] running loss: 0.666\n",
      "[17,   600] running loss: 0.671\n",
      "[17,    10] validation loss: 0.982\n",
      "[17,    20] validation loss: 0.842\n",
      "[17,    30] validation loss: 1.220\n",
      "[17,    40] validation loss: 0.719\n",
      "[17,    50] validation loss: 0.717\n",
      "[17,    60] validation loss: 0.790\n",
      "[17,    70] validation loss: 0.620\n",
      "[17,    80] validation loss: 0.842\n",
      "Test Accuracy: 76.901%\n",
      "[18,    50] running loss: 0.673\n",
      "[18,   100] running loss: 0.603\n",
      "[18,   150] running loss: 0.845\n",
      "[18,   200] running loss: 0.812\n",
      "[18,   250] running loss: 0.551\n",
      "[18,   300] running loss: 0.551\n",
      "[18,   350] running loss: 0.605\n",
      "[18,   400] running loss: 0.617\n",
      "[18,   450] running loss: 0.627\n",
      "[18,   500] running loss: 0.560\n",
      "[18,   550] running loss: 0.594\n",
      "[18,   600] running loss: 0.604\n",
      "[18,    10] validation loss: 0.989\n",
      "[18,    20] validation loss: 0.416\n",
      "[18,    30] validation loss: 0.792\n",
      "[18,    40] validation loss: 0.421\n",
      "[18,    50] validation loss: 1.340\n",
      "[18,    60] validation loss: 1.092\n",
      "[18,    70] validation loss: 0.906\n",
      "[18,    80] validation loss: 0.888\n",
      "Test Accuracy: 75.211%\n",
      "[19,    50] running loss: 0.645\n",
      "[19,   100] running loss: 0.646\n",
      "[19,   150] running loss: 0.468\n",
      "[19,   200] running loss: 0.746\n",
      "[19,   250] running loss: 0.764\n",
      "[19,   300] running loss: 0.718\n",
      "[19,   350] running loss: 0.689\n",
      "[19,   400] running loss: 0.610\n",
      "[19,   450] running loss: 0.571\n",
      "[19,   500] running loss: 0.658\n",
      "[19,   550] running loss: 0.578\n",
      "[19,   600] running loss: 0.588\n",
      "[19,    10] validation loss: 0.560\n",
      "[19,    20] validation loss: 0.712\n",
      "[19,    30] validation loss: 1.108\n",
      "[19,    40] validation loss: 0.715\n",
      "[19,    50] validation loss: 0.736\n",
      "[19,    60] validation loss: 0.926\n",
      "[19,    70] validation loss: 0.735\n",
      "[19,    80] validation loss: 0.828\n",
      "Test Accuracy: 75.493%\n",
      "[20,    50] running loss: 0.668\n",
      "[20,   100] running loss: 0.693\n",
      "[20,   150] running loss: 0.646\n",
      "[20,   200] running loss: 0.613\n",
      "[20,   250] running loss: 0.579\n",
      "[20,   300] running loss: 0.646\n",
      "[20,   350] running loss: 0.705\n",
      "[20,   400] running loss: 0.691\n",
      "[20,   450] running loss: 0.664\n",
      "[20,   500] running loss: 0.649\n",
      "[20,   550] running loss: 0.690\n",
      "[20,   600] running loss: 0.739\n",
      "[20,    10] validation loss: 0.657\n",
      "[20,    20] validation loss: 0.944\n",
      "[20,    30] validation loss: 0.674\n",
      "[20,    40] validation loss: 0.945\n",
      "[20,    50] validation loss: 0.609\n",
      "[20,    60] validation loss: 0.794\n",
      "[20,    70] validation loss: 0.553\n",
      "[20,    80] validation loss: 1.160\n",
      "Test Accuracy: 76.620%\n",
      "Finished Training\n"
     ]
    }
   ],
   "source": [
    "loss_list = []\n",
    "validation_list = []\n",
    "test_accuracy_list = []\n",
    "\n",
    "for epoch in range(20):  # change this to 20\n",
    "    \n",
    "    correct = 0\n",
    "    total = 0\n",
    "\n",
    "    running_loss = 0.0\n",
    "    validation_loss = 0.0\n",
    "    \n",
    "    scheduler.step()\n",
    "    \n",
    "    for i, data in enumerate(trainloader, 0):\n",
    "        # get the inputs\n",
    "        inputs, labels = data\n",
    "        \n",
    "        if torch.cuda.is_available():\n",
    "            inputs = inputs.cuda()\n",
    "            labels = labels.cuda()\n",
    "        \n",
    "        # zero the parameter gradients\n",
    "        optimizer.zero_grad()\n",
    "\n",
    "        # forward + backward + optimize\n",
    "        outputs = net(inputs)\n",
    "        loss = criterion(outputs, labels)\n",
    "        loss.backward()\n",
    "        optimizer.step()\n",
    "\n",
    "        # print statistics\n",
    "        running_loss += loss.item()\n",
    "        \n",
    "        if i % 50 == 49:    \n",
    "            \n",
    "            loss_list.append(running_loss/50)\n",
    "            \n",
    "            print('[%d, %5d] running loss: %.3f' %\n",
    "                  (epoch + 1, i + 1, running_loss / 50))\n",
    "            running_loss = 0.0\n",
    "        \n",
    "    for i, data in enumerate(valloader, 0):\n",
    "        \n",
    "        inputs, labels = data\n",
    "        \n",
    "        if torch.cuda.is_available():\n",
    "            inputs = inputs.cuda()\n",
    "            labels = labels.cuda()\n",
    "\n",
    "        outputs = net(inputs)\n",
    "        val_loss = criterion(outputs, labels)\n",
    "        validation_loss += val_loss.item()\n",
    "        \n",
    "        if i % 10 == 9:    \n",
    "            \n",
    "            validation_list.append(validation_loss/10)\n",
    "            \n",
    "            print('[%d, %5d] validation loss: %.3f' %\n",
    "                  (epoch + 1, i + 1, validation_loss/10))\n",
    "            \n",
    "            validation_loss = 0.0\n",
    "            \n",
    "        _, predicted = torch.max(outputs.data, 1)\n",
    "        total += labels.size(0)\n",
    "        correct += (predicted == labels).sum().item()    \n",
    "    \n",
    "    print(\"Test Accuracy: {:.3f}%\".format(100*correct/total))\n",
    "    \n",
    "    test_accuracy = 100*correct/total\n",
    "    \n",
    "    test_accuracy_list.append(test_accuracy)\n",
    "        \n",
    "print('Finished Training')"
   ]
  },
  {
   "cell_type": "markdown",
   "metadata": {
    "scrolled": true
   },
   "source": [
    "##### Visualise the loss and accuracy\n",
    "Using the loss of both training data and validation data to evaluate the model."
   ]
  },
  {
   "cell_type": "code",
   "execution_count": 13,
   "metadata": {},
   "outputs": [
    {
     "name": "stdout",
     "output_type": "stream",
     "text": [
      "running_lost_list_per_epoch= [1.3244477081298829, 1.1056649327278136, 0.9370169138908386, 0.9086508691310883, 0.9596430492401123, 0.8522168493270874, 0.8774573945999146, 0.573477942943573, 0.5841459965705872, 0.5881912994384766, 0.6822851085662842, 0.689928035736084, 0.7732266652584076, 0.6017054581642151, 0.610382159948349, 0.6320865178108215, 0.6711920654773712, 0.6038068306446075, 0.5884784591197968, 0.7385482251644134]\n",
      "running_lost_list_per_epoch= [1.3507578134536744, 1.228162842988968, 1.1768178582191466, 0.7849170565605164, 0.7717430531978607, 0.6867702841758728, 0.7113513827323914, 0.7777699649333953, 0.8070174574851989, 0.598669958114624, 0.8774196088314057, 0.9692160964012146, 0.7616421282291412, 0.5485645771026612, 1.0111923217773438, 0.4571796655654907, 0.8423354268074036, 0.8881982624530792, 0.8280467629432678, 1.1604916095733642]\n"
     ]
    },
    {
     "data": {
      "text/plain": [
       "<matplotlib.figure.Figure at 0x1ddd5c81b70>"
      ]
     },
     "execution_count": 13,
     "metadata": {},
     "output_type": "execute_result"
    },
    {
     "data": {
      "image/png": "[encoded data removed]",
      "text/plain": [
       "<matplotlib.figure.Figure at 0x1dd9f1d06a0>"
      ]
     },
     "metadata": {},
     "output_type": "display_data"
    },
    {
     "data": {
      "image/png": "[encoded data removed]",
      "text/plain": [
       "<matplotlib.figure.Figure at 0x1ddd5c7a470>"
      ]
     },
     "metadata": {},
     "output_type": "display_data"
    },
    {
     "data": {
      "text/plain": [
       "<matplotlib.figure.Figure at 0x1ddd5c81b70>"
      ]
     },
     "metadata": {},
     "output_type": "display_data"
    }
   ],
   "source": [
    "import matplotlib.pyplot as plt\n",
    "import numpy as np\n",
    "%matplotlib inline\n",
    "\n",
    "running_loss_list_per_epoch = loss_list[11::12]\n",
    "\n",
    "print('running_lost_list_per_epoch=',running_loss_list_per_epoch)\n",
    "\n",
    "validation_loss_list_per_epoch = validation_list[7::8]\n",
    "\n",
    "print('running_lost_list_per_epoch=',validation_loss_list_per_epoch)\n",
    "\n",
    "plt.plot(range(len(running_loss_list_per_epoch)),running_loss_list_per_epoch)\n",
    "\n",
    "plt.plot(range(len(validation_loss_list_per_epoch)),validation_loss_list_per_epoch) \n",
    "\n",
    "plt.xlabel('Epoch')\n",
    "plt.ylabel('Loss')\n",
    "plt.legend(['Training Loss','Validation Loss'])\n",
    "\n",
    "plt.figure()\n",
    "\n",
    "plt.plot(range(len(test_accuracy_list)), test_accuracy_list)\n",
    "plt.xlabel('Epoch')\n",
    "plt.ylabel('Accuracy')\n",
    "plt.figure()"
   ]
  },
  {
   "cell_type": "markdown",
   "metadata": {},
   "source": [
    "### Eval the trained network"
   ]
  },
  {
   "cell_type": "code",
   "execution_count": null,
   "metadata": {},
   "outputs": [],
   "source": [
    "# net.eval()\n",
    "def eval_net(net, valloader):\n",
    "    correct = 0\n",
    "    total = 0\n",
    "    \n",
    "    with torch.no_grad():\n",
    "        \n",
    "        for data in valloader:\n",
    "            \n",
    "            images, labels = data\n",
    "            \n",
    "            if torch.cuda.is_available():\n",
    "                images = images.cuda()\n",
    "                labels = labels.cuda()\n",
    "            \n",
    "            outputs = net(images)\n",
    "            _, predicted = torch.max(outputs.data, 1)\n",
    "            total += labels.size(0)\n",
    "            correct += (predicted == labels).sum().item()\n",
    "\n",
    "    print('Test Accuracy: {:.3f} %'.format(100*correct/total))\n",
    "\n",
    "eval_net(net, valloader)"
   ]
  },
  {
   "cell_type": "markdown",
   "metadata": {},
   "source": [
    "### Visualise Our Predictions"
   ]
  },
  {
   "cell_type": "code",
   "execution_count": 15,
   "metadata": {},
   "outputs": [
    {
     "data": {
      "image/png": "[encoded data removed]",
      "text/plain": [
       "<matplotlib.figure.Figure at 0x29386ab27b8>"
      ]
     },
     "metadata": {},
     "output_type": "display_data"
    }
   ],
   "source": [
    "import matplotlib.pyplot as plt\n",
    "fig = plt.figure()\n",
    "shown_batch = 0\n",
    "index = 0\n",
    "\n",
    "with torch.no_grad():\n",
    "    for(images, labels) in dataloaders['val']:\n",
    "        if shown_batch ==1:\n",
    "            break\n",
    "        shown_batch += 1\n",
    "        images = Variable(images)\n",
    "        labels = Variable(labels)\n",
    "        if torch.cuda.is_available():\n",
    "            images = images.cuda()\n",
    "            labels = labels.cuda()\n",
    "            \n",
    "        outputs = net(images) # the output has shape (4,18)\n",
    "        _,preds = torch.max(outputs,1) # the pred has shape [0-17,0-17,0-17,0-17]\n",
    "        \n",
    "        for i in range(4):\n",
    "            index += 1\n",
    "            ax = plt.subplot(2,2,index)\n",
    "            ax.axis('off')\n",
    "            ax.set_title('Predicted Label: {}'.format(class_names[preds[i]]))\n",
    "            input_img = images.cpu().data[i] # get the tensor of the image and put it to cpu\n",
    "            inp = input_img.numpy().transpose((1,2,0)) # if we have (1,2,3) -> (2,3,1)\n",
    "            mean = np.array([0.485, 0.456, 0.406])\n",
    "            std = np.array([0.229, 0.224, 0.225])\n",
    "            inp = (std*inp) + mean\n",
    "            inp = np.clip(inp,0,1)\n",
    "            plt.imshow(inp)"
   ]
  },
  {
   "cell_type": "markdown",
   "metadata": {},
   "source": [
    "### References\n",
    "- https://www.w3schools.com/python/python_dictionaries.asp\n",
    "- https://www.programcreek.com/python/example/105102/torchvision.datasets.ImageFolder\n",
    "- https://stackoverflow.com/questions/14826888/python-os-path-join-on-a-list\n",
    "- https://github.com/pytorch/vision/tree/master/torchvision/models"
   ]
  },
  {
   "cell_type": "code",
   "execution_count": null,
   "metadata": {
    "collapsed": true
   },
   "outputs": [],
   "source": [
    "# save the model\n",
    "torch.save(net.state_dict(),'resnet18.pth')"
   ]
  },
  {
   "cell_type": "code",
   "execution_count": null,
   "metadata": {
    "collapsed": true
   },
   "outputs": [],
   "source": [
    "# load the model\n",
    "net = Network(pretrained = True)\n",
    "net.load_state_dict(torch.load('resnet18.pth'))\n",
    "net.eval()"
   ]
  },
  {
   "cell_type": "markdown",
   "metadata": {},
   "source": [
    "### Stuff"
   ]
  },
  {
   "cell_type": "code",
   "execution_count": 16,
   "metadata": {},
   "outputs": [
    {
     "name": "stdout",
     "output_type": "stream",
     "text": [
      "{'thelion': 'catthelion', 'thetiger': 'catthetiger'}\n"
     ]
    }
   ],
   "source": [
    "# simple stuff\n",
    "#animals = {\n",
    "    #\"lion\": \"roar\",\n",
    "    #\"tiger\": \"roarrr\"\n",
    "#}\n",
    "dog = {x: 'cat' + x for x in ['thelion','thetiger']}\n",
    "print(dog)"
   ]
  },
  {
   "cell_type": "code",
   "execution_count": 17,
   "metadata": {},
   "outputs": [
    {
     "name": "stdout",
     "output_type": "stream",
     "text": [
      "[[[0, 0], [0, 1], [0, 2], [0, 3], [0, 4], [0, 5], [0, 6], [0, 7], [0, 8], [0, 9]], [[1, 0], [1, 1], [1, 2], [1, 3], [1, 4], [1, 5], [1, 6], [1, 7], [1, 8], [1, 9]]]\n"
     ]
    }
   ],
   "source": [
    "listoflists = []\n",
    "\n",
    "for i in range(0,2):\n",
    "    sublist = []\n",
    "    \n",
    "    for j in range(0,10):\n",
    "        \n",
    "        sublist.append([i,j])\n",
    "        \n",
    "    listoflists.append(sublist)\n",
    "    \n",
    "print(listoflists)"
   ]
  },
  {
   "cell_type": "code",
   "execution_count": 18,
   "metadata": {},
   "outputs": [
    {
     "name": "stdout",
     "output_type": "stream",
     "text": [
      "inputs = 1 labels = 2\n",
      "inputs = 2 labels = 5\n",
      "inputs = 3 labels = 6\n"
     ]
    }
   ],
   "source": [
    "dataload_ = {\n",
    "    'the_train' : [[1,2],[2,5],[3,6]],\n",
    "    3 : 4,\n",
    "    5 : 6,\n",
    "    7 : 8\n",
    "}\n",
    "\n",
    "for in_, la_ in dataload_['the_train']:\n",
    "    \n",
    "    print(\"inputs = {0} labels = {1}\".format(in_,la_))\n",
    "\n",
    "# for inputs,labels in dataloaders['train']:\n"
   ]
  },
  {
   "cell_type": "code",
   "execution_count": 19,
   "metadata": {},
   "outputs": [
    {
     "data": {
      "text/plain": [
       "'int: 42;  hex: 0x9;  oct: 0o12;  bin: 0b1011'"
      ]
     },
     "execution_count": 19,
     "metadata": {},
     "output_type": "execute_result"
    }
   ],
   "source": [
    "\"int: {:d};  hex: {:#x};  oct: {:#o};  bin: {:#b}\".format(42,9,10,11)"
   ]
  }
 ],
 "metadata": {
  "kernelspec": {
   "display_name": "Python 3",
   "language": "python",
   "name": "python3"
  },
  "language_info": {
   "codemirror_mode": {
    "name": "ipython",
    "version": 3
   },
   "file_extension": ".py",
   "mimetype": "text/x-python",
   "name": "python",
   "nbconvert_exporter": "python",
   "pygments_lexer": "ipython3",
   "version": "3.6.3"
  }
 },
 "nbformat": 4,
 "nbformat_minor": 2
}
