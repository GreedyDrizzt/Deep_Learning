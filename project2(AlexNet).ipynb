{
 "cells": [
  {
   "cell_type": "markdown",
   "metadata": {},
   "source": [
    "## Project 2 "
   ]
  },
  {
   "cell_type": "code",
   "execution_count": 1,
   "metadata": {
    "collapsed": true
   },
   "outputs": [],
   "source": [
    "# import stuff\n",
    "import time\n",
    "import os\n",
    "\n",
    "import numpy as np\n",
    "import torch\n",
    "import torch.optim as optim\n",
    "from torch import nn\n",
    "from torch.autograd import Variable\n",
    "\n",
    "import torchvision\n",
    "import torchvision.models as models\n",
    "import torch.utils.model_zoo as model_zoo\n",
    "import torchvision.transforms as transforms\n",
    "from torchvision import datasets\n",
    "\n",
    "from itertools import accumulate\n",
    "from functools import reduce"
   ]
  },
  {
   "cell_type": "code",
   "execution_count": 2,
   "metadata": {
    "collapsed": true
   },
   "outputs": [],
   "source": [
    "import torch\n",
    "import torchvision\n",
    "import torchvision.transforms as transforms\n",
    "\n",
    "data_transforms = {\n",
    "    \n",
    "    'train': transforms.Compose([\n",
    "    transforms.Resize((224,224)),\n",
    "    transforms.RandomHorizontalFlip(),\n",
    "    transforms.ToTensor(),\n",
    "    transforms.Normalize((0.485, 0.456, 0.406), (0.229, 0.224, 0.225))\n",
    "    ]), \n",
    "    \n",
    "    'val': transforms.Compose([\n",
    "    transforms.Resize(256),\n",
    "    transforms.CenterCrop(224),\n",
    "    transforms.ToTensor(),\n",
    "    transforms.Normalize((0.485, 0.456, 0.406), (0.229, 0.224, 0.225))\n",
    "    ]), \n",
    "\n",
    "\n",
    "}"
   ]
  },
  {
   "cell_type": "markdown",
   "metadata": {},
   "source": [
    "### Loading the Dataset"
   ]
  },
  {
   "cell_type": "code",
   "execution_count": 3,
   "metadata": {},
   "outputs": [
    {
     "name": "stdout",
     "output_type": "stream",
     "text": [
      "Classes = ['apple', 'avocado', 'banana', 'blueberry', 'cherry', 'dragonfruit', 'grape', 'kiwifruit', 'lemon', 'orange', 'papaya', 'peach', 'pear', 'pineapple', 'plum', 'pomegranate', 'rockmelon', 'strawberry']\n",
      "Num of Classes = 18\n",
      "There are 605 iterations in the training set\n",
      "There are 89 iterations in the valdation set\n",
      "There are 2417 training images\n",
      "There are 355 validation images\n"
     ]
    }
   ],
   "source": [
    "data_dir = 'release'\n",
    "# create a dictionary that contains train and val\n",
    "list_set = ['train','val']\n",
    "\n",
    "image_datasets = {x: datasets.ImageFolder(os.path.join(data_dir,x), data_transforms[x]) for x in list_set}\n",
    "\n",
    "dataloaders = {x: torch.utils.data.DataLoader(image_datasets[x], batch_size = 4, shuffle= True) for x in list_set}\n",
    "\n",
    "trainloader, valloader = dataloaders[list_set[0]], dataloaders[list_set[1]]\n",
    "\n",
    "dataset_sizes = {x: len(image_datasets[x]) for x in list_set}\n",
    "\n",
    "class_names = image_datasets[list_set[0]].classes\n",
    "\n",
    "print(\"Classes = {}\".format(class_names))\n",
    "print(\"Num of Classes = {}\".format(len(class_names)))\n",
    "print(\"There are {} iterations in the training set\".format(len(dataloaders[list_set[0]])))\n",
    "print(\"There are {} iterations in the valdation set\".format(len(dataloaders[list_set[1]])))\n",
    "print(\"There are {} training images\".format(dataset_sizes[list_set[0]]))\n",
    "print(\"There are {} validation images\".format(dataset_sizes[list_set[1]]))"
   ]
  },
  {
   "cell_type": "markdown",
   "metadata": {},
   "source": [
    "### Loading the AlexNet"
   ]
  },
  {
   "cell_type": "code",
   "execution_count": 6,
   "metadata": {},
   "outputs": [
    {
     "name": "stdout",
     "output_type": "stream",
     "text": [
      "AlexNet(\n",
      "  (features): Sequential(\n",
      "    (0): Conv2d(3, 64, kernel_size=(11, 11), stride=(4, 4), padding=(2, 2))\n",
      "    (1): ReLU(inplace)\n",
      "    (2): MaxPool2d(kernel_size=3, stride=2, padding=0, dilation=1, ceil_mode=False)\n",
      "    (3): Conv2d(64, 192, kernel_size=(5, 5), stride=(1, 1), padding=(2, 2))\n",
      "    (4): ReLU(inplace)\n",
      "    (5): MaxPool2d(kernel_size=3, stride=2, padding=0, dilation=1, ceil_mode=False)\n",
      "    (6): Conv2d(192, 384, kernel_size=(3, 3), stride=(1, 1), padding=(1, 1))\n",
      "    (7): ReLU(inplace)\n",
      "    (8): Conv2d(384, 256, kernel_size=(3, 3), stride=(1, 1), padding=(1, 1))\n",
      "    (9): ReLU(inplace)\n",
      "    (10): Conv2d(256, 256, kernel_size=(3, 3), stride=(1, 1), padding=(1, 1))\n",
      "    (11): ReLU(inplace)\n",
      "    (12): MaxPool2d(kernel_size=3, stride=2, padding=0, dilation=1, ceil_mode=False)\n",
      "  )\n",
      "  (classifier): Sequential(\n",
      "    (0): Dropout(p=0.5)\n",
      "    (1): Linear(in_features=9216, out_features=4096, bias=True)\n",
      "    (2): ReLU(inplace)\n",
      "    (3): Dropout(p=0.5)\n",
      "    (4): Linear(in_features=4096, out_features=4096, bias=True)\n",
      "    (5): ReLU(inplace)\n",
      "    (6): Linear(in_features=4096, out_features=1000, bias=True)\n",
      "  )\n",
      ")\n"
     ]
    }
   ],
   "source": [
    "net = torchvision.models.alexnet(pretrained=True) # change this to some other model\n",
    "print(net)"
   ]
  },
  {
   "cell_type": "code",
   "execution_count": 10,
   "metadata": {},
   "outputs": [],
   "source": [
    "net.classifier = nn.Sequential(\n",
    "            nn.Dropout(),\n",
    "            nn.Linear(256 * 6 * 6, 4096),\n",
    "            nn.ReLU(inplace=True),\n",
    "            nn.Dropout(),\n",
    "            nn.Linear(4096, 4096),\n",
    "            nn.ReLU(inplace=True),\n",
    "            nn.Linear(4096, 18),\n",
    "        )"
   ]
  },
  {
   "cell_type": "code",
   "execution_count": 11,
   "metadata": {},
   "outputs": [
    {
     "data": {
      "text/plain": [
       "True"
      ]
     },
     "execution_count": 11,
     "metadata": {},
     "output_type": "execute_result"
    }
   ],
   "source": [
    "if torch.cuda.is_available():\n",
    "    net = net.cuda()\n",
    "torch.cuda.is_available()"
   ]
  },
  {
   "cell_type": "markdown",
   "metadata": {},
   "source": [
    "### Define a Loss function and optimizer"
   ]
  },
  {
   "cell_type": "code",
   "execution_count": 13,
   "metadata": {},
   "outputs": [
    {
     "name": "stdout",
     "output_type": "stream",
     "text": [
      "SGD (\n",
      "Parameter Group 0\n",
      "    dampening: 0\n",
      "    lr: 0.001\n",
      "    momentum: 0.9\n",
      "    nesterov: False\n",
      "    weight_decay: 0\n",
      ")\n"
     ]
    }
   ],
   "source": [
    "import torch.optim as optim\n",
    "\n",
    "criterion = nn.CrossEntropyLoss()\n",
    "optimizer = optim.SGD(net.classifier.parameters(), lr=0.001, momentum=0.9)\n",
    "\n",
    "print(optimizer)"
   ]
  },
  {
   "cell_type": "code",
   "execution_count": 14,
   "metadata": {},
   "outputs": [
    {
     "name": "stdout",
     "output_type": "stream",
     "text": [
      "[0.001]\n"
     ]
    }
   ],
   "source": [
    "# lr scheduler\n",
    "scheduler = torch.optim.lr_scheduler.StepLR(optimizer, step_size=7, gamma=0.1)\n",
    "# step_size = 7: change learning rate every 7 epochs.\n",
    "# gamma = 0.1: learning rate * gamma when changing.\n",
    "print(scheduler.base_lrs)"
   ]
  },
  {
   "cell_type": "markdown",
   "metadata": {},
   "source": [
    "### Visualise the Training"
   ]
  },
  {
   "cell_type": "code",
   "execution_count": 15,
   "metadata": {},
   "outputs": [
    {
     "name": "stdout",
     "output_type": "stream",
     "text": [
      "For one iteration this is what happens = \n",
      "Input Shape:  torch.Size([4, 3, 224, 224])\n",
      "Labels Shape:  torch.Size([4])\n",
      "Labels are: tensor([13, 11,  1,  8], device='cuda:0')\n",
      "Output Tensor: tensor([[-0.0483, -0.1137, -0.0279,  0.4466, -0.5899, -0.5116,  0.3812,  0.0533,\n",
      "         -0.2016, -0.6247, -0.3657, -0.5664,  0.3414,  0.9838,  0.2838,  0.2702,\n",
      "         -0.1608, -0.6184],\n",
      "        [-0.8102, -0.1318,  0.1316,  0.4620, -0.2803,  0.1370,  0.2926,  0.2129,\n",
      "          0.2932, -0.5402, -0.3043, -0.5112,  0.3294,  0.5582,  0.1435, -0.3969,\n",
      "          0.1183,  0.3038],\n",
      "        [-0.0587,  0.1488, -0.2526, -0.4742, -0.1111, -0.0360, -0.3942,  0.1459,\n",
      "         -0.7258, -0.4067, -0.5904,  0.0158,  0.5141,  0.1545,  0.0478,  0.0019,\n",
      "          0.0498,  0.1071],\n",
      "        [-0.1439,  0.1531, -0.0089,  0.4365, -0.5017, -0.1753,  0.0397,  0.3016,\n",
      "         -0.2288, -0.2890, -0.3414, -0.5127,  0.1494,  0.0528, -0.2504, -0.2997,\n",
      "         -0.1541, -0.1281]], device='cuda:0', grad_fn=<ThAddmmBackward>)\n",
      "Output Shape:  torch.Size([4, 18])\n",
      "Predicted: tensor([13, 13, 12,  3], device='cuda:0')\n",
      "Predicted Shape: torch.Size([4])\n",
      "Correct Predictions: tensor(1, device='cuda:0')\n"
     ]
    }
   ],
   "source": [
    "iteration = 0\n",
    "correct = 0\n",
    "\n",
    "for inputs, labels in dataloaders['train']:\n",
    "    \n",
    "    if iteration ==1:\n",
    "        break\n",
    "        \n",
    "    inputs = Variable(inputs)\n",
    "    labels = Variable(labels)\n",
    "    \n",
    "    if torch.cuda.is_available():\n",
    "        inputs = Variable(inputs).cuda()\n",
    "        labels = Variable(labels).cuda()    \n",
    "        \n",
    "    print(\"For one iteration this is what happens = \")\n",
    "    print(\"Input Shape: \",inputs.shape)\n",
    "    print(\"Labels Shape: \",labels.shape)\n",
    "    print(\"Labels are: {}\".format(labels))\n",
    "    \n",
    "    \n",
    "    if torch.cuda.is_available():\n",
    "        net = net.cuda()\n",
    "    output = net(inputs)\n",
    "    \n",
    "    print(\"Output Tensor:\",output)\n",
    "    print(\"Output Shape: \",output.shape)\n",
    "    \n",
    "    _, predicted = torch.max(output,1)\n",
    "    \n",
    "    print(\"Predicted:\",predicted)\n",
    "    print(\"Predicted Shape:\",predicted.shape)\n",
    "    \n",
    "    correct += (predicted==labels).sum()\n",
    "    \n",
    "    print(\"Correct Predictions:\",correct)\n",
    "    \n",
    "    iteration+=1"
   ]
  },
  {
   "cell_type": "markdown",
   "metadata": {},
   "source": [
    "### Train the Network"
   ]
  },
  {
   "cell_type": "code",
   "execution_count": 16,
   "metadata": {},
   "outputs": [
    {
     "name": "stdout",
     "output_type": "stream",
     "text": [
      "[1,    50] running loss: 3.065\n",
      "[1,   100] running loss: 2.511\n",
      "[1,   150] running loss: 2.276\n",
      "[1,   200] running loss: 2.188\n",
      "[1,   250] running loss: 1.824\n",
      "[1,   300] running loss: 1.776\n",
      "[1,   350] running loss: 1.629\n",
      "[1,   400] running loss: 1.607\n",
      "[1,   450] running loss: 1.615\n",
      "[1,   500] running loss: 1.436\n",
      "[1,   550] running loss: 1.259\n",
      "[1,   600] running loss: 1.403\n",
      "[1,    10] validation loss: 1.094\n",
      "[1,    20] validation loss: 0.991\n",
      "[1,    30] validation loss: 1.375\n",
      "[1,    40] validation loss: 1.231\n",
      "[1,    50] validation loss: 1.224\n",
      "[1,    60] validation loss: 1.028\n",
      "[1,    70] validation loss: 1.231\n",
      "[1,    80] validation loss: 0.967\n",
      "Test Accuracy: 65.634%\n",
      "[2,    50] running loss: 1.169\n",
      "[2,   100] running loss: 1.035\n",
      "[2,   150] running loss: 1.120\n",
      "[2,   200] running loss: 1.357\n",
      "[2,   250] running loss: 1.214\n",
      "[2,   300] running loss: 0.999\n",
      "[2,   350] running loss: 0.949\n",
      "[2,   400] running loss: 1.127\n",
      "[2,   450] running loss: 1.086\n",
      "[2,   500] running loss: 1.164\n",
      "[2,   550] running loss: 0.927\n",
      "[2,   600] running loss: 1.059\n",
      "[2,    10] validation loss: 1.084\n",
      "[2,    20] validation loss: 0.940\n",
      "[2,    30] validation loss: 1.312\n",
      "[2,    40] validation loss: 0.680\n",
      "[2,    50] validation loss: 1.127\n",
      "[2,    60] validation loss: 1.858\n",
      "[2,    70] validation loss: 1.035\n",
      "[2,    80] validation loss: 1.155\n",
      "Test Accuracy: 65.915%\n",
      "[3,    50] running loss: 0.976\n",
      "[3,   100] running loss: 0.838\n",
      "[3,   150] running loss: 0.866\n",
      "[3,   200] running loss: 0.980\n",
      "[3,   250] running loss: 0.903\n",
      "[3,   300] running loss: 0.895\n",
      "[3,   350] running loss: 1.067\n",
      "[3,   400] running loss: 0.871\n",
      "[3,   450] running loss: 0.812\n",
      "[3,   500] running loss: 0.886\n",
      "[3,   550] running loss: 0.984\n",
      "[3,   600] running loss: 0.937\n",
      "[3,    10] validation loss: 1.137\n",
      "[3,    20] validation loss: 1.356\n",
      "[3,    30] validation loss: 0.856\n",
      "[3,    40] validation loss: 0.920\n",
      "[3,    50] validation loss: 1.246\n",
      "[3,    60] validation loss: 1.249\n",
      "[3,    70] validation loss: 1.125\n",
      "[3,    80] validation loss: 1.341\n",
      "Test Accuracy: 62.817%\n",
      "[4,    50] running loss: 0.680\n",
      "[4,   100] running loss: 0.741\n",
      "[4,   150] running loss: 0.566\n",
      "[4,   200] running loss: 0.664\n",
      "[4,   250] running loss: 0.642\n",
      "[4,   300] running loss: 0.779\n",
      "[4,   350] running loss: 0.749\n",
      "[4,   400] running loss: 0.488\n",
      "[4,   450] running loss: 0.568\n",
      "[4,   500] running loss: 0.927\n",
      "[4,   550] running loss: 0.682\n",
      "[4,   600] running loss: 0.736\n",
      "[4,    10] validation loss: 1.154\n",
      "[4,    20] validation loss: 1.348\n",
      "[4,    30] validation loss: 1.614\n",
      "[4,    40] validation loss: 0.684\n",
      "[4,    50] validation loss: 1.428\n",
      "[4,    60] validation loss: 1.465\n",
      "[4,    70] validation loss: 0.949\n",
      "[4,    80] validation loss: 0.744\n",
      "Test Accuracy: 66.479%\n",
      "[5,    50] running loss: 0.643\n",
      "[5,   100] running loss: 0.674\n",
      "[5,   150] running loss: 0.535\n",
      "[5,   200] running loss: 0.522\n",
      "[5,   250] running loss: 0.719\n",
      "[5,   300] running loss: 0.642\n",
      "[5,   350] running loss: 0.503\n",
      "[5,   400] running loss: 0.536\n",
      "[5,   450] running loss: 0.686\n",
      "[5,   500] running loss: 0.702\n",
      "[5,   550] running loss: 0.714\n",
      "[5,   600] running loss: 0.700\n",
      "[5,    10] validation loss: 1.511\n",
      "[5,    20] validation loss: 0.740\n",
      "[5,    30] validation loss: 1.150\n",
      "[5,    40] validation loss: 0.894\n",
      "[5,    50] validation loss: 0.868\n",
      "[5,    60] validation loss: 1.065\n",
      "[5,    70] validation loss: 1.357\n",
      "[5,    80] validation loss: 1.089\n",
      "Test Accuracy: 67.606%\n",
      "[6,    50] running loss: 0.492\n",
      "[6,   100] running loss: 0.741\n",
      "[6,   150] running loss: 0.646\n",
      "[6,   200] running loss: 0.602\n",
      "[6,   250] running loss: 0.648\n",
      "[6,   300] running loss: 0.480\n",
      "[6,   350] running loss: 0.638\n",
      "[6,   400] running loss: 0.719\n",
      "[6,   450] running loss: 0.436\n",
      "[6,   500] running loss: 0.505\n",
      "[6,   550] running loss: 0.454\n",
      "[6,   600] running loss: 0.619\n",
      "[6,    10] validation loss: 0.870\n",
      "[6,    20] validation loss: 0.976\n",
      "[6,    30] validation loss: 1.411\n",
      "[6,    40] validation loss: 0.766\n",
      "[6,    50] validation loss: 1.632\n",
      "[6,    60] validation loss: 1.151\n",
      "[6,    70] validation loss: 1.029\n",
      "[6,    80] validation loss: 1.567\n",
      "Test Accuracy: 70.423%\n",
      "[7,    50] running loss: 0.512\n",
      "[7,   100] running loss: 0.475\n",
      "[7,   150] running loss: 0.392\n",
      "[7,   200] running loss: 0.474\n",
      "[7,   250] running loss: 0.340\n",
      "[7,   300] running loss: 0.533\n",
      "[7,   350] running loss: 0.583\n",
      "[7,   400] running loss: 0.363\n",
      "[7,   450] running loss: 0.662\n",
      "[7,   500] running loss: 0.434\n",
      "[7,   550] running loss: 0.669\n",
      "[7,   600] running loss: 0.521\n",
      "[7,    10] validation loss: 0.969\n",
      "[7,    20] validation loss: 0.826\n",
      "[7,    30] validation loss: 0.644\n",
      "[7,    40] validation loss: 0.898\n",
      "[7,    50] validation loss: 1.329\n",
      "[7,    60] validation loss: 0.841\n",
      "[7,    70] validation loss: 0.938\n",
      "[7,    80] validation loss: 0.865\n",
      "Test Accuracy: 75.211%\n",
      "[8,    50] running loss: 0.456\n",
      "[8,   100] running loss: 0.215\n",
      "[8,   150] running loss: 0.229\n",
      "[8,   200] running loss: 0.372\n",
      "[8,   250] running loss: 0.181\n",
      "[8,   300] running loss: 0.270\n",
      "[8,   350] running loss: 0.301\n",
      "[8,   400] running loss: 0.246\n",
      "[8,   450] running loss: 0.223\n",
      "[8,   500] running loss: 0.295\n",
      "[8,   550] running loss: 0.284\n",
      "[8,   600] running loss: 0.215\n",
      "[8,    10] validation loss: 1.114\n",
      "[8,    20] validation loss: 0.903\n",
      "[8,    30] validation loss: 1.073\n",
      "[8,    40] validation loss: 0.682\n",
      "[8,    50] validation loss: 0.904\n",
      "[8,    60] validation loss: 0.501\n",
      "[8,    70] validation loss: 1.413\n",
      "[8,    80] validation loss: 0.644\n",
      "Test Accuracy: 78.028%\n",
      "[9,    50] running loss: 0.161\n",
      "[9,   100] running loss: 0.177\n",
      "[9,   150] running loss: 0.141\n",
      "[9,   200] running loss: 0.220\n",
      "[9,   250] running loss: 0.165\n",
      "[9,   300] running loss: 0.211\n",
      "[9,   350] running loss: 0.247\n",
      "[9,   400] running loss: 0.319\n",
      "[9,   450] running loss: 0.223\n",
      "[9,   500] running loss: 0.193\n",
      "[9,   550] running loss: 0.264\n",
      "[9,   600] running loss: 0.150\n",
      "[9,    10] validation loss: 1.086\n",
      "[9,    20] validation loss: 1.132\n",
      "[9,    30] validation loss: 0.749\n",
      "[9,    40] validation loss: 0.321\n",
      "[9,    50] validation loss: 0.664\n",
      "[9,    60] validation loss: 0.658\n",
      "[9,    70] validation loss: 0.630\n",
      "[9,    80] validation loss: 0.896\n",
      "Test Accuracy: 80.000%\n",
      "[10,    50] running loss: 0.212\n",
      "[10,   100] running loss: 0.154\n",
      "[10,   150] running loss: 0.158\n",
      "[10,   200] running loss: 0.185\n",
      "[10,   250] running loss: 0.170\n",
      "[10,   300] running loss: 0.176\n",
      "[10,   350] running loss: 0.153\n",
      "[10,   400] running loss: 0.180\n",
      "[10,   450] running loss: 0.202\n",
      "[10,   500] running loss: 0.201\n",
      "[10,   550] running loss: 0.246\n",
      "[10,   600] running loss: 0.174\n",
      "[10,    10] validation loss: 0.279\n",
      "[10,    20] validation loss: 0.792\n",
      "[10,    30] validation loss: 0.497\n",
      "[10,    40] validation loss: 0.688\n",
      "[10,    50] validation loss: 0.536\n",
      "[10,    60] validation loss: 0.997\n",
      "[10,    70] validation loss: 0.789\n",
      "[10,    80] validation loss: 1.149\n",
      "Test Accuracy: 80.282%\n",
      "[11,    50] running loss: 0.195\n",
      "[11,   100] running loss: 0.120\n",
      "[11,   150] running loss: 0.163\n",
      "[11,   200] running loss: 0.164\n",
      "[11,   250] running loss: 0.106\n",
      "[11,   300] running loss: 0.146\n",
      "[11,   350] running loss: 0.158\n",
      "[11,   400] running loss: 0.131\n",
      "[11,   450] running loss: 0.111\n",
      "[11,   500] running loss: 0.162\n",
      "[11,   550] running loss: 0.139\n",
      "[11,   600] running loss: 0.154\n",
      "[11,    10] validation loss: 0.495\n",
      "[11,    20] validation loss: 0.770\n",
      "[11,    30] validation loss: 0.823\n",
      "[11,    40] validation loss: 0.599\n",
      "[11,    50] validation loss: 0.362\n",
      "[11,    60] validation loss: 1.002\n",
      "[11,    70] validation loss: 0.945\n",
      "[11,    80] validation loss: 1.209\n",
      "Test Accuracy: 76.620%\n",
      "[12,    50] running loss: 0.096\n",
      "[12,   100] running loss: 0.186\n",
      "[12,   150] running loss: 0.162\n",
      "[12,   200] running loss: 0.190\n",
      "[12,   250] running loss: 0.206\n",
      "[12,   300] running loss: 0.119\n",
      "[12,   350] running loss: 0.106\n",
      "[12,   400] running loss: 0.125\n",
      "[12,   450] running loss: 0.088\n",
      "[12,   500] running loss: 0.161\n",
      "[12,   550] running loss: 0.112\n",
      "[12,   600] running loss: 0.112\n",
      "[12,    10] validation loss: 0.711\n",
      "[12,    20] validation loss: 0.786\n",
      "[12,    30] validation loss: 0.723\n",
      "[12,    40] validation loss: 0.606\n",
      "[12,    50] validation loss: 0.630\n",
      "[12,    60] validation loss: 0.807\n",
      "[12,    70] validation loss: 1.080\n",
      "[12,    80] validation loss: 1.082\n",
      "Test Accuracy: 75.775%\n",
      "[13,    50] running loss: 0.112\n",
      "[13,   100] running loss: 0.079\n",
      "[13,   150] running loss: 0.123\n",
      "[13,   200] running loss: 0.117\n",
      "[13,   250] running loss: 0.113\n"
     ]
    },
    {
     "name": "stdout",
     "output_type": "stream",
     "text": [
      "[13,   300] running loss: 0.117\n",
      "[13,   350] running loss: 0.074\n",
      "[13,   400] running loss: 0.121\n",
      "[13,   450] running loss: 0.072\n",
      "[13,   500] running loss: 0.097\n",
      "[13,   550] running loss: 0.186\n",
      "[13,   600] running loss: 0.119\n",
      "[13,    10] validation loss: 1.039\n",
      "[13,    20] validation loss: 0.896\n",
      "[13,    30] validation loss: 0.909\n",
      "[13,    40] validation loss: 0.729\n",
      "[13,    50] validation loss: 0.591\n",
      "[13,    60] validation loss: 0.399\n",
      "[13,    70] validation loss: 0.964\n",
      "[13,    80] validation loss: 0.351\n",
      "Test Accuracy: 79.718%\n",
      "[14,    50] running loss: 0.094\n",
      "[14,   100] running loss: 0.141\n",
      "[14,   150] running loss: 0.172\n",
      "[14,   200] running loss: 0.133\n",
      "[14,   250] running loss: 0.172\n",
      "[14,   300] running loss: 0.095\n",
      "[14,   350] running loss: 0.135\n",
      "[14,   400] running loss: 0.113\n",
      "[14,   450] running loss: 0.112\n",
      "[14,   500] running loss: 0.117\n",
      "[14,   550] running loss: 0.112\n",
      "[14,   600] running loss: 0.117\n",
      "[14,    10] validation loss: 0.736\n",
      "[14,    20] validation loss: 0.402\n",
      "[14,    30] validation loss: 0.873\n",
      "[14,    40] validation loss: 0.637\n",
      "[14,    50] validation loss: 0.817\n",
      "[14,    60] validation loss: 0.778\n",
      "[14,    70] validation loss: 0.572\n",
      "[14,    80] validation loss: 1.262\n",
      "Test Accuracy: 79.718%\n",
      "[15,    50] running loss: 0.087\n",
      "[15,   100] running loss: 0.109\n",
      "[15,   150] running loss: 0.104\n",
      "[15,   200] running loss: 0.058\n",
      "[15,   250] running loss: 0.091\n",
      "[15,   300] running loss: 0.147\n",
      "[15,   350] running loss: 0.159\n",
      "[15,   400] running loss: 0.124\n",
      "[15,   450] running loss: 0.094\n",
      "[15,   500] running loss: 0.097\n",
      "[15,   550] running loss: 0.088\n",
      "[15,   600] running loss: 0.083\n",
      "[15,    10] validation loss: 0.930\n",
      "[15,    20] validation loss: 1.107\n",
      "[15,    30] validation loss: 0.602\n",
      "[15,    40] validation loss: 0.706\n",
      "[15,    50] validation loss: 0.824\n",
      "[15,    60] validation loss: 0.774\n",
      "[15,    70] validation loss: 0.438\n",
      "[15,    80] validation loss: 0.752\n",
      "Test Accuracy: 77.746%\n",
      "[16,    50] running loss: 0.089\n",
      "[16,   100] running loss: 0.115\n",
      "[16,   150] running loss: 0.095\n",
      "[16,   200] running loss: 0.136\n",
      "[16,   250] running loss: 0.144\n",
      "[16,   300] running loss: 0.162\n",
      "[16,   350] running loss: 0.090\n",
      "[16,   400] running loss: 0.118\n",
      "[16,   450] running loss: 0.079\n",
      "[16,   500] running loss: 0.091\n",
      "[16,   550] running loss: 0.111\n",
      "[16,   600] running loss: 0.106\n",
      "[16,    10] validation loss: 0.685\n",
      "[16,    20] validation loss: 0.632\n",
      "[16,    30] validation loss: 0.917\n",
      "[16,    40] validation loss: 0.827\n",
      "[16,    50] validation loss: 1.172\n",
      "[16,    60] validation loss: 0.750\n",
      "[16,    70] validation loss: 0.701\n",
      "[16,    80] validation loss: 0.759\n",
      "Test Accuracy: 80.000%\n",
      "[17,    50] running loss: 0.065\n",
      "[17,   100] running loss: 0.092\n",
      "[17,   150] running loss: 0.156\n",
      "[17,   200] running loss: 0.082\n",
      "[17,   250] running loss: 0.107\n",
      "[17,   300] running loss: 0.121\n",
      "[17,   350] running loss: 0.148\n",
      "[17,   400] running loss: 0.077\n",
      "[17,   450] running loss: 0.136\n",
      "[17,   500] running loss: 0.145\n",
      "[17,   550] running loss: 0.131\n",
      "[17,   600] running loss: 0.124\n",
      "[17,    10] validation loss: 0.838\n",
      "[17,    20] validation loss: 0.876\n",
      "[17,    30] validation loss: 1.000\n",
      "[17,    40] validation loss: 0.981\n",
      "[17,    50] validation loss: 0.363\n",
      "[17,    60] validation loss: 0.763\n",
      "[17,    70] validation loss: 0.427\n",
      "[17,    80] validation loss: 0.509\n",
      "Test Accuracy: 80.563%\n",
      "[18,    50] running loss: 0.151\n",
      "[18,   100] running loss: 0.087\n",
      "[18,   150] running loss: 0.058\n",
      "[18,   200] running loss: 0.093\n",
      "[18,   250] running loss: 0.137\n",
      "[18,   300] running loss: 0.071\n",
      "[18,   350] running loss: 0.086\n",
      "[18,   400] running loss: 0.109\n",
      "[18,   450] running loss: 0.121\n",
      "[18,   500] running loss: 0.085\n",
      "[18,   550] running loss: 0.112\n",
      "[18,   600] running loss: 0.106\n",
      "[18,    10] validation loss: 0.354\n",
      "[18,    20] validation loss: 0.458\n",
      "[18,    30] validation loss: 0.861\n",
      "[18,    40] validation loss: 0.774\n",
      "[18,    50] validation loss: 0.508\n",
      "[18,    60] validation loss: 1.644\n",
      "[18,    70] validation loss: 0.781\n",
      "[18,    80] validation loss: 0.848\n",
      "Test Accuracy: 79.155%\n",
      "[19,    50] running loss: 0.125\n",
      "[19,   100] running loss: 0.085\n",
      "[19,   150] running loss: 0.106\n",
      "[19,   200] running loss: 0.126\n",
      "[19,   250] running loss: 0.106\n",
      "[19,   300] running loss: 0.148\n",
      "[19,   350] running loss: 0.072\n",
      "[19,   400] running loss: 0.112\n",
      "[19,   450] running loss: 0.124\n",
      "[19,   500] running loss: 0.091\n",
      "[19,   550] running loss: 0.092\n",
      "[19,   600] running loss: 0.109\n",
      "[19,    10] validation loss: 0.475\n",
      "[19,    20] validation loss: 0.977\n",
      "[19,    30] validation loss: 1.185\n",
      "[19,    40] validation loss: 0.920\n",
      "[19,    50] validation loss: 0.678\n",
      "[19,    60] validation loss: 0.844\n",
      "[19,    70] validation loss: 0.425\n",
      "[19,    80] validation loss: 0.899\n",
      "Test Accuracy: 78.592%\n",
      "[20,    50] running loss: 0.119\n",
      "[20,   100] running loss: 0.103\n",
      "[20,   150] running loss: 0.117\n",
      "[20,   200] running loss: 0.119\n",
      "[20,   250] running loss: 0.059\n",
      "[20,   300] running loss: 0.060\n",
      "[20,   350] running loss: 0.113\n",
      "[20,   400] running loss: 0.070\n",
      "[20,   450] running loss: 0.068\n",
      "[20,   500] running loss: 0.080\n",
      "[20,   550] running loss: 0.127\n",
      "[20,   600] running loss: 0.060\n",
      "[20,    10] validation loss: 0.611\n",
      "[20,    20] validation loss: 0.493\n",
      "[20,    30] validation loss: 0.722\n",
      "[20,    40] validation loss: 1.072\n",
      "[20,    50] validation loss: 0.667\n",
      "[20,    60] validation loss: 0.630\n",
      "[20,    70] validation loss: 0.600\n",
      "[20,    80] validation loss: 1.005\n",
      "Test Accuracy: 78.592%\n",
      "Finished Training\n"
     ]
    }
   ],
   "source": [
    "loss_list = []\n",
    "validation_list = []\n",
    "test_accuracy_list = []\n",
    "\n",
    "for epoch in range(20):  # change this to 20\n",
    "    \n",
    "    correct = 0\n",
    "    total = 0\n",
    "\n",
    "    running_loss = 0.0\n",
    "    validation_loss = 0.0\n",
    "    \n",
    "    scheduler.step()\n",
    "    \n",
    "    for i, data in enumerate(trainloader, 0):\n",
    "        # get the inputs\n",
    "        inputs, labels = data\n",
    "        \n",
    "        if torch.cuda.is_available():\n",
    "            inputs = inputs.cuda()\n",
    "            labels = labels.cuda()\n",
    "        \n",
    "        # zero the parameter gradients\n",
    "        optimizer.zero_grad()\n",
    "\n",
    "        # forward + backward + optimize\n",
    "        outputs = net(inputs)\n",
    "        loss = criterion(outputs, labels)\n",
    "        loss.backward()\n",
    "        optimizer.step()\n",
    "\n",
    "        # print statistics\n",
    "        running_loss += loss.item()\n",
    "        \n",
    "        if i % 50 == 49:    \n",
    "            \n",
    "            loss_list.append(running_loss/50)\n",
    "            \n",
    "            print('[%d, %5d] running loss: %.3f' %\n",
    "                  (epoch + 1, i + 1, running_loss / 50))\n",
    "            running_loss = 0.0\n",
    "        \n",
    "    for i, data in enumerate(valloader, 0):\n",
    "        \n",
    "        inputs, labels = data\n",
    "        \n",
    "        if torch.cuda.is_available():\n",
    "            inputs = inputs.cuda()\n",
    "            labels = labels.cuda()\n",
    "\n",
    "        outputs = net(inputs)\n",
    "        val_loss = criterion(outputs, labels)\n",
    "        validation_loss += val_loss.item()\n",
    "        \n",
    "        if i % 10 == 9:    \n",
    "            \n",
    "            validation_list.append(validation_loss/10)\n",
    "            \n",
    "            print('[%d, %5d] validation loss: %.3f' %\n",
    "                  (epoch + 1, i + 1, validation_loss/10))\n",
    "            \n",
    "            validation_loss = 0.0\n",
    "            \n",
    "        _, predicted = torch.max(outputs.data, 1)\n",
    "        total += labels.size(0)\n",
    "        correct += (predicted == labels).sum().item()    \n",
    "    \n",
    "    print(\"Test Accuracy: {:.3f}%\".format(100*correct/total))\n",
    "    \n",
    "    test_accuracy = 100*correct/total\n",
    "    \n",
    "    test_accuracy_list.append(test_accuracy)\n",
    "        \n",
    "print('Finished Training')"
   ]
  },
  {
   "cell_type": "markdown",
   "metadata": {
    "scrolled": true
   },
   "source": [
    "##### Visualise the loss and accuracy\n",
    "Using the loss of both training data and validation data to evaluate the model."
   ]
  },
  {
   "cell_type": "code",
   "execution_count": 17,
   "metadata": {},
   "outputs": [
    {
     "name": "stdout",
     "output_type": "stream",
     "text": [
      "running_lost_list_per_epoch= [1.4027684068679809, 1.058866126537323, 0.937249835729599, 0.7357604467868805, 0.7001297509670258, 0.6187936270236969, 0.5210837018489838, 0.21543898463249206, 0.15019397377967836, 0.17351081609725952, 0.1541743540763855, 0.11163140177726745, 0.11902232766151429, 0.11653728008270264, 0.08340852856636047, 0.10597131133079529, 0.12367239594459534, 0.10586687684059143, 0.10875303387641906, 0.05972375273704529]\n",
      "running_lost_list_per_epoch= [0.9665040373802185, 1.1552926063537599, 1.3411667704582215, 0.7439727902412414, 1.0889343798160553, 1.5669832229614258, 0.865427428483963, 0.6435416400432586, 0.8964770257472991, 1.1485674023628234, 1.209112524986267, 1.08197979927063, 0.35117983222007754, 1.2617773950099944, 0.7524817407131195, 0.7592173457145691, 0.5093450725078583, 0.8482533812522888, 0.8988322973251343, 1.0054587721824646]\n"
     ]
    },
    {
     "data": {
      "text/plain": [
       "<matplotlib.figure.Figure at 0x1355445b668>"
      ]
     },
     "execution_count": 17,
     "metadata": {},
     "output_type": "execute_result"
    },
    {
     "data": {
      "image/png": "[encoded data removed]",
      "text/plain": [
       "<matplotlib.figure.Figure at 0x1350007e0b8>"
      ]
     },
     "metadata": {},
     "output_type": "display_data"
    },
    {
     "data": {
      "image/png": "[encoded data removed]",
      "text/plain": [
       "<matplotlib.figure.Figure at 0x13554438f98>"
      ]
     },
     "metadata": {},
     "output_type": "display_data"
    },
    {
     "data": {
      "text/plain": [
       "<matplotlib.figure.Figure at 0x1355445b668>"
      ]
     },
     "metadata": {},
     "output_type": "display_data"
    }
   ],
   "source": [
    "import matplotlib.pyplot as plt\n",
    "import numpy as np\n",
    "%matplotlib inline\n",
    "\n",
    "running_loss_list_per_epoch = loss_list[11::12]\n",
    "\n",
    "print('running_lost_list_per_epoch=',running_loss_list_per_epoch)\n",
    "\n",
    "validation_loss_list_per_epoch = validation_list[7::8]\n",
    "\n",
    "print('running_lost_list_per_epoch=',validation_loss_list_per_epoch)\n",
    "\n",
    "plt.plot(range(len(running_loss_list_per_epoch)),running_loss_list_per_epoch)\n",
    "\n",
    "plt.plot(range(len(validation_loss_list_per_epoch)),validation_loss_list_per_epoch) \n",
    "\n",
    "plt.xlabel('Epoch')\n",
    "plt.ylabel('Loss')\n",
    "plt.legend(['Training Loss','Validation Loss'])\n",
    "\n",
    "plt.figure()\n",
    "\n",
    "plt.plot(range(len(test_accuracy_list)), test_accuracy_list)\n",
    "plt.xlabel('Epoch')\n",
    "plt.ylabel('Accuracy')\n",
    "plt.figure()"
   ]
  },
  {
   "cell_type": "markdown",
   "metadata": {},
   "source": [
    "### Eval the trained network"
   ]
  },
  {
   "cell_type": "code",
   "execution_count": 18,
   "metadata": {},
   "outputs": [
    {
     "name": "stdout",
     "output_type": "stream",
     "text": [
      "Test Accuracy: 79.155 %\n"
     ]
    }
   ],
   "source": [
    "# net.eval()\n",
    "def eval_net(net, valloader):\n",
    "    correct = 0\n",
    "    total = 0\n",
    "    \n",
    "    with torch.no_grad():\n",
    "        \n",
    "        for data in valloader:\n",
    "            \n",
    "            images, labels = data\n",
    "            \n",
    "            if torch.cuda.is_available():\n",
    "                images = images.cuda()\n",
    "                labels = labels.cuda()\n",
    "            \n",
    "            outputs = net(images)\n",
    "            _, predicted = torch.max(outputs.data, 1)\n",
    "            total += labels.size(0)\n",
    "            correct += (predicted == labels).sum().item()\n",
    "\n",
    "    print('Test Accuracy: {:.3f} %'.format(100*correct/total))\n",
    "\n",
    "eval_net(net, valloader)"
   ]
  },
  {
   "cell_type": "markdown",
   "metadata": {},
   "source": [
    "### Visualise Our Predictions"
   ]
  },
  {
   "cell_type": "code",
   "execution_count": 32,
   "metadata": {},
   "outputs": [
    {
     "data": {
      "image/png": "[encoded data removed]",
      "text/plain": [
       "<matplotlib.figure.Figure at 0x28363bd8320>"
      ]
     },
     "metadata": {},
     "output_type": "display_data"
    }
   ],
   "source": [
    "import matplotlib.pyplot as plt\n",
    "fig = plt.figure()\n",
    "shown_batch = 0\n",
    "index = 0\n",
    "\n",
    "with torch.no_grad():\n",
    "    for(images, labels) in dataloaders['val']:\n",
    "        if shown_batch ==1:\n",
    "            break\n",
    "        shown_batch += 1\n",
    "        images = Variable(images)\n",
    "        labels = Variable(labels)\n",
    "        if torch.cuda.is_available():\n",
    "            images = images.cuda()\n",
    "            labels = labels.cuda()\n",
    "            \n",
    "        outputs = net(images) # the output has shape (4,18)\n",
    "        _,preds = torch.max(outputs,1) # the pred has shape [0-17,0-17,0-17,0-17]\n",
    "        \n",
    "        for i in range(4):\n",
    "            index += 1\n",
    "            ax = plt.subplot(2,2,index)\n",
    "            ax.axis('off')\n",
    "            ax.set_title('Predicted Label: {}'.format(class_names[preds[i]]))\n",
    "            input_img = images.cpu().data[i] # get the tensor of the image and put it to cpu\n",
    "            inp = input_img.numpy().transpose((1,2,0)) # if we have (1,2,3) -> (2,3,1)\n",
    "            mean = np.array([0.485, 0.456, 0.406])\n",
    "            std = np.array([0.229, 0.224, 0.225])\n",
    "            inp = (std*inp) + mean\n",
    "            inp = np.clip(inp,0,1)\n",
    "            plt.imshow(inp)"
   ]
  },
  {
   "cell_type": "markdown",
   "metadata": {},
   "source": [
    "### References\n",
    "- https://www.w3schools.com/python/python_dictionaries.asp\n",
    "- https://www.programcreek.com/python/example/105102/torchvision.datasets.ImageFolder\n",
    "- https://stackoverflow.com/questions/14826888/python-os-path-join-on-a-list\n",
    "- https://github.com/pytorch/vision/tree/master/torchvision/models"
   ]
  },
  {
   "cell_type": "code",
   "execution_count": 33,
   "metadata": {
    "collapsed": true
   },
   "outputs": [],
   "source": [
    "# save the model\n",
    "torch.save(net.state_dict(),'resnet152.pth')"
   ]
  },
  {
   "cell_type": "code",
   "execution_count": null,
   "metadata": {
    "collapsed": true
   },
   "outputs": [],
   "source": [
    "# load the model\n",
    "net = Network(pretrained = True)\n",
    "net.load_state_dict(torch.load('resnet18.pth'))\n",
    "net.eval()"
   ]
  },
  {
   "cell_type": "markdown",
   "metadata": {},
   "source": [
    "### Stuff"
   ]
  },
  {
   "cell_type": "code",
   "execution_count": 16,
   "metadata": {},
   "outputs": [
    {
     "name": "stdout",
     "output_type": "stream",
     "text": [
      "{'thelion': 'catthelion', 'thetiger': 'catthetiger'}\n"
     ]
    }
   ],
   "source": [
    "# simple stuff\n",
    "#animals = {\n",
    "    #\"lion\": \"roar\",\n",
    "    #\"tiger\": \"roarrr\"\n",
    "#}\n",
    "dog = {x: 'cat' + x for x in ['thelion','thetiger']}\n",
    "print(dog)"
   ]
  },
  {
   "cell_type": "code",
   "execution_count": 17,
   "metadata": {},
   "outputs": [
    {
     "name": "stdout",
     "output_type": "stream",
     "text": [
      "[[[0, 0], [0, 1], [0, 2], [0, 3], [0, 4], [0, 5], [0, 6], [0, 7], [0, 8], [0, 9]], [[1, 0], [1, 1], [1, 2], [1, 3], [1, 4], [1, 5], [1, 6], [1, 7], [1, 8], [1, 9]]]\n"
     ]
    }
   ],
   "source": [
    "listoflists = []\n",
    "\n",
    "for i in range(0,2):\n",
    "    sublist = []\n",
    "    \n",
    "    for j in range(0,10):\n",
    "        \n",
    "        sublist.append([i,j])\n",
    "        \n",
    "    listoflists.append(sublist)\n",
    "    \n",
    "print(listoflists)"
   ]
  },
  {
   "cell_type": "code",
   "execution_count": 18,
   "metadata": {},
   "outputs": [
    {
     "name": "stdout",
     "output_type": "stream",
     "text": [
      "inputs = 1 labels = 2\n",
      "inputs = 2 labels = 5\n",
      "inputs = 3 labels = 6\n"
     ]
    }
   ],
   "source": [
    "dataload_ = {\n",
    "    'the_train' : [[1,2],[2,5],[3,6]],\n",
    "    3 : 4,\n",
    "    5 : 6,\n",
    "    7 : 8\n",
    "}\n",
    "\n",
    "for in_, la_ in dataload_['the_train']:\n",
    "    \n",
    "    print(\"inputs = {0} labels = {1}\".format(in_,la_))\n",
    "\n",
    "# for inputs,labels in dataloaders['train']:\n"
   ]
  },
  {
   "cell_type": "code",
   "execution_count": 19,
   "metadata": {},
   "outputs": [
    {
     "data": {
      "text/plain": [
       "'int: 42;  hex: 0x9;  oct: 0o12;  bin: 0b1011'"
      ]
     },
     "execution_count": 19,
     "metadata": {},
     "output_type": "execute_result"
    }
   ],
   "source": [
    "\"int: {:d};  hex: {:#x};  oct: {:#o};  bin: {:#b}\".format(42,9,10,11)"
   ]
  }
 ],
 "metadata": {
  "kernelspec": {
   "display_name": "Python 3",
   "language": "python",
   "name": "python3"
  },
  "language_info": {
   "codemirror_mode": {
    "name": "ipython",
    "version": 3
   },
   "file_extension": ".py",
   "mimetype": "text/x-python",
   "name": "python",
   "nbconvert_exporter": "python",
   "pygments_lexer": "ipython3",
   "version": "3.6.3"
  }
 },
 "nbformat": 4,
 "nbformat_minor": 2
}
