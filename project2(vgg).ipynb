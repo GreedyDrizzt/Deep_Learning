{
 "cells": [
  {
   "cell_type": "markdown",
   "metadata": {},
   "source": [
    "## Project 2 "
   ]
  },
  {
   "cell_type": "code",
   "execution_count": 5,
   "metadata": {
    "collapsed": true
   },
   "outputs": [],
   "source": [
    "# import stuff\n",
    "import time\n",
    "import os\n",
    "\n",
    "import numpy as np\n",
    "import torch\n",
    "import torch.optim as optim\n",
    "from torch import nn\n",
    "from torch.autograd import Variable\n",
    "\n",
    "import torchvision\n",
    "import torchvision.models as models\n",
    "import torch.utils.model_zoo as model_zoo\n",
    "import torchvision.transforms as transforms\n",
    "from torchvision import datasets\n",
    "\n",
    "from itertools import accumulate\n",
    "from functools import reduce"
   ]
  },
  {
   "cell_type": "code",
   "execution_count": 6,
   "metadata": {
    "collapsed": true
   },
   "outputs": [],
   "source": [
    "import torch\n",
    "import torchvision\n",
    "import torchvision.transforms as transforms\n",
    "\n",
    "data_transforms = {\n",
    "    \n",
    "    'train': transforms.Compose([\n",
    "    transforms.Resize((224,224)),\n",
    "    transforms.RandomHorizontalFlip(),\n",
    "    transforms.ToTensor(),\n",
    "    transforms.Normalize((0.485, 0.456, 0.406), (0.229, 0.224, 0.225))\n",
    "    ]), \n",
    "    \n",
    "    'val': transforms.Compose([\n",
    "    transforms.Resize(256),\n",
    "    transforms.CenterCrop(224),\n",
    "    transforms.ToTensor(),\n",
    "    transforms.Normalize((0.485, 0.456, 0.406), (0.229, 0.224, 0.225))\n",
    "    ]), \n",
    "\n",
    "\n",
    "}"
   ]
  },
  {
   "cell_type": "markdown",
   "metadata": {},
   "source": [
    "### Loading the Dataset"
   ]
  },
  {
   "cell_type": "code",
   "execution_count": 7,
   "metadata": {},
   "outputs": [
    {
     "name": "stdout",
     "output_type": "stream",
     "text": [
      "Classes = ['apple', 'avocado', 'banana', 'blueberry', 'cherry', 'dragonfruit', 'grape', 'kiwifruit', 'lemon', 'orange', 'papaya', 'peach', 'pear', 'pineapple', 'plum', 'pomegranate', 'rockmelon', 'strawberry']\n",
      "Num of Classes = 18\n",
      "There are 605 iterations in the training set\n",
      "There are 89 iterations in the valdation set\n",
      "There are 2417 training images\n",
      "There are 355 validation images\n"
     ]
    }
   ],
   "source": [
    "data_dir = 'release'\n",
    "# create a dictionary that contains train and val\n",
    "list_set = ['train','val']\n",
    "\n",
    "image_datasets = {x: datasets.ImageFolder(os.path.join(data_dir,x), data_transforms[x]) for x in list_set}\n",
    "\n",
    "dataloaders = {x: torch.utils.data.DataLoader(image_datasets[x], batch_size = 4, shuffle= True) for x in list_set}\n",
    "\n",
    "trainloader, valloader = dataloaders[list_set[0]], dataloaders[list_set[1]]\n",
    "\n",
    "dataset_sizes = {x: len(image_datasets[x]) for x in list_set}\n",
    "\n",
    "class_names = image_datasets[list_set[0]].classes\n",
    "\n",
    "print(\"Classes = {}\".format(class_names))\n",
    "print(\"Num of Classes = {}\".format(len(class_names)))\n",
    "print(\"There are {} iterations in the training set\".format(len(dataloaders[list_set[0]])))\n",
    "print(\"There are {} iterations in the valdation set\".format(len(dataloaders[list_set[1]])))\n",
    "print(\"There are {} training images\".format(dataset_sizes[list_set[0]]))\n",
    "print(\"There are {} validation images\".format(dataset_sizes[list_set[1]]))"
   ]
  },
  {
   "cell_type": "markdown",
   "metadata": {},
   "source": [
    "### Loading the Resnet"
   ]
  },
  {
   "cell_type": "code",
   "execution_count": 8,
   "metadata": {},
   "outputs": [
    {
     "name": "stderr",
     "output_type": "stream",
     "text": [
      "Downloading: \"https://download.pytorch.org/models/vgg19-dcbb9e9d.pth\" to C:\\Users\\yxia2172/.torch\\models\\vgg19-dcbb9e9d.pth\n",
      "100.0%\n"
     ]
    },
    {
     "name": "stdout",
     "output_type": "stream",
     "text": [
      "VGG(\n",
      "  (features): Sequential(\n",
      "    (0): Conv2d(3, 64, kernel_size=(3, 3), stride=(1, 1), padding=(1, 1))\n",
      "    (1): ReLU(inplace)\n",
      "    (2): Conv2d(64, 64, kernel_size=(3, 3), stride=(1, 1), padding=(1, 1))\n",
      "    (3): ReLU(inplace)\n",
      "    (4): MaxPool2d(kernel_size=2, stride=2, padding=0, dilation=1, ceil_mode=False)\n",
      "    (5): Conv2d(64, 128, kernel_size=(3, 3), stride=(1, 1), padding=(1, 1))\n",
      "    (6): ReLU(inplace)\n",
      "    (7): Conv2d(128, 128, kernel_size=(3, 3), stride=(1, 1), padding=(1, 1))\n",
      "    (8): ReLU(inplace)\n",
      "    (9): MaxPool2d(kernel_size=2, stride=2, padding=0, dilation=1, ceil_mode=False)\n",
      "    (10): Conv2d(128, 256, kernel_size=(3, 3), stride=(1, 1), padding=(1, 1))\n",
      "    (11): ReLU(inplace)\n",
      "    (12): Conv2d(256, 256, kernel_size=(3, 3), stride=(1, 1), padding=(1, 1))\n",
      "    (13): ReLU(inplace)\n",
      "    (14): Conv2d(256, 256, kernel_size=(3, 3), stride=(1, 1), padding=(1, 1))\n",
      "    (15): ReLU(inplace)\n",
      "    (16): Conv2d(256, 256, kernel_size=(3, 3), stride=(1, 1), padding=(1, 1))\n",
      "    (17): ReLU(inplace)\n",
      "    (18): MaxPool2d(kernel_size=2, stride=2, padding=0, dilation=1, ceil_mode=False)\n",
      "    (19): Conv2d(256, 512, kernel_size=(3, 3), stride=(1, 1), padding=(1, 1))\n",
      "    (20): ReLU(inplace)\n",
      "    (21): Conv2d(512, 512, kernel_size=(3, 3), stride=(1, 1), padding=(1, 1))\n",
      "    (22): ReLU(inplace)\n",
      "    (23): Conv2d(512, 512, kernel_size=(3, 3), stride=(1, 1), padding=(1, 1))\n",
      "    (24): ReLU(inplace)\n",
      "    (25): Conv2d(512, 512, kernel_size=(3, 3), stride=(1, 1), padding=(1, 1))\n",
      "    (26): ReLU(inplace)\n",
      "    (27): MaxPool2d(kernel_size=2, stride=2, padding=0, dilation=1, ceil_mode=False)\n",
      "    (28): Conv2d(512, 512, kernel_size=(3, 3), stride=(1, 1), padding=(1, 1))\n",
      "    (29): ReLU(inplace)\n",
      "    (30): Conv2d(512, 512, kernel_size=(3, 3), stride=(1, 1), padding=(1, 1))\n",
      "    (31): ReLU(inplace)\n",
      "    (32): Conv2d(512, 512, kernel_size=(3, 3), stride=(1, 1), padding=(1, 1))\n",
      "    (33): ReLU(inplace)\n",
      "    (34): Conv2d(512, 512, kernel_size=(3, 3), stride=(1, 1), padding=(1, 1))\n",
      "    (35): ReLU(inplace)\n",
      "    (36): MaxPool2d(kernel_size=2, stride=2, padding=0, dilation=1, ceil_mode=False)\n",
      "  )\n",
      "  (classifier): Sequential(\n",
      "    (0): Linear(in_features=25088, out_features=4096, bias=True)\n",
      "    (1): ReLU(inplace)\n",
      "    (2): Dropout(p=0.5)\n",
      "    (3): Linear(in_features=4096, out_features=4096, bias=True)\n",
      "    (4): ReLU(inplace)\n",
      "    (5): Dropout(p=0.5)\n",
      "    (6): Linear(in_features=4096, out_features=1000, bias=True)\n",
      "  )\n",
      ")\n"
     ]
    }
   ],
   "source": [
    "net = torchvision.models.vgg19(pretrained=True) # change this to some other model\n",
    "print(net)"
   ]
  },
  {
   "cell_type": "code",
   "execution_count": 9,
   "metadata": {
    "collapsed": true
   },
   "outputs": [],
   "source": [
    "# only train the last layer\n",
    "# freeze all the layers\n",
    "# cancels backpropagation\n",
    "\n",
    "for param in net.parameters():\n",
    "    param.requires_grad = False"
   ]
  },
  {
   "cell_type": "code",
   "execution_count": 11,
   "metadata": {},
   "outputs": [
    {
     "name": "stdout",
     "output_type": "stream",
     "text": [
      "Sequential(\n",
      "  (0): Linear(in_features=25088, out_features=4096, bias=True)\n",
      "  (1): ReLU(inplace)\n",
      "  (2): Dropout(p=0.5)\n",
      "  (3): Linear(in_features=4096, out_features=4096, bias=True)\n",
      "  (4): ReLU(inplace)\n",
      "  (5): Dropout(p=0.5)\n",
      "  (6): Linear(in_features=4096, out_features=18, bias=True)\n",
      ")\n"
     ]
    }
   ],
   "source": [
    "net.classifier = nn.Sequential(\n",
    "            nn.Linear(512 * 7 * 7, 4096),\n",
    "            nn.ReLU(True),\n",
    "            nn.Dropout(),\n",
    "            nn.Linear(4096, 4096),\n",
    "            nn.ReLU(True),\n",
    "            nn.Dropout(),\n",
    "            nn.Linear(4096, 18),\n",
    "        )\n",
    "\n",
    "print(net.classifier)"
   ]
  },
  {
   "cell_type": "code",
   "execution_count": 12,
   "metadata": {},
   "outputs": [
    {
     "data": {
      "text/plain": [
       "True"
      ]
     },
     "execution_count": 12,
     "metadata": {},
     "output_type": "execute_result"
    }
   ],
   "source": [
    "if torch.cuda.is_available():\n",
    "    net = net.cuda()\n",
    "torch.cuda.is_available()"
   ]
  },
  {
   "cell_type": "markdown",
   "metadata": {},
   "source": [
    "### Define a Loss function and optimizer"
   ]
  },
  {
   "cell_type": "code",
   "execution_count": 14,
   "metadata": {},
   "outputs": [
    {
     "name": "stdout",
     "output_type": "stream",
     "text": [
      "SGD (\n",
      "Parameter Group 0\n",
      "    dampening: 0\n",
      "    lr: 0.001\n",
      "    momentum: 0.9\n",
      "    nesterov: False\n",
      "    weight_decay: 0\n",
      ")\n"
     ]
    }
   ],
   "source": [
    "import torch.optim as optim\n",
    "\n",
    "criterion = nn.CrossEntropyLoss()\n",
    "optimizer = optim.SGD(net.classifier.parameters(), lr=0.001, momentum=0.9)\n",
    "\n",
    "print(optimizer)"
   ]
  },
  {
   "cell_type": "code",
   "execution_count": 15,
   "metadata": {},
   "outputs": [
    {
     "name": "stdout",
     "output_type": "stream",
     "text": [
      "[0.001]\n"
     ]
    }
   ],
   "source": [
    "# lr scheduler\n",
    "scheduler = torch.optim.lr_scheduler.StepLR(optimizer, step_size=7, gamma=0.1)\n",
    "# step_size = 7: change learning rate every 7 epochs.\n",
    "# gamma = 0.1: learning rate * gamma when changing.\n",
    "print(scheduler.base_lrs)"
   ]
  },
  {
   "cell_type": "markdown",
   "metadata": {},
   "source": [
    "### Visualise the Training"
   ]
  },
  {
   "cell_type": "code",
   "execution_count": 16,
   "metadata": {},
   "outputs": [
    {
     "name": "stdout",
     "output_type": "stream",
     "text": [
      "For one iteration this is what happens = \n",
      "Input Shape:  torch.Size([4, 3, 224, 224])\n",
      "Labels Shape:  torch.Size([4])\n",
      "Labels are: tensor([ 0, 11, 14,  7], device='cuda:0')\n",
      "Output Tensor: tensor([[-0.0871, -0.0646,  0.2310,  0.1519, -0.0252,  0.0329,  0.5923, -0.0251,\n",
      "         -0.0391, -0.0607,  0.1197, -0.2091,  0.1253, -0.0174,  0.0878, -0.0353,\n",
      "          0.0242,  0.0509],\n",
      "        [ 0.2790, -0.0403, -0.1469,  0.1550,  0.2399, -0.3067,  0.1277, -0.1165,\n",
      "          0.1401,  0.1458, -0.0382,  0.0991, -0.1820,  0.0586, -0.1941,  0.0362,\n",
      "         -0.0488,  0.0784],\n",
      "        [-0.1830, -0.1134,  0.0451, -0.2592, -0.1285,  0.0103,  0.4379,  0.1373,\n",
      "          0.4155,  0.2235,  0.0299,  0.0130, -0.3096, -0.3220, -0.2276,  0.2566,\n",
      "          0.1627,  0.0109],\n",
      "        [-0.0065, -0.0225,  0.0700, -0.0719, -0.0604, -0.1188,  0.1097,  0.1802,\n",
      "          0.2655, -0.2160, -0.1354, -0.3131, -0.3214, -0.3098, -0.4483,  0.2656,\n",
      "          0.2059,  0.4916]], device='cuda:0', grad_fn=<ThAddmmBackward>)\n",
      "Output Shape:  torch.Size([4, 18])\n",
      "Predicted: tensor([ 6,  0,  6, 17], device='cuda:0')\n",
      "Predicted Shape: torch.Size([4])\n",
      "Correct Predictions: tensor(0, device='cuda:0')\n"
     ]
    }
   ],
   "source": [
    "iteration = 0\n",
    "correct = 0\n",
    "\n",
    "for inputs, labels in dataloaders['train']:\n",
    "    \n",
    "    if iteration ==1:\n",
    "        break\n",
    "        \n",
    "    inputs = Variable(inputs)\n",
    "    labels = Variable(labels)\n",
    "    \n",
    "    if torch.cuda.is_available():\n",
    "        inputs = Variable(inputs).cuda()\n",
    "        labels = Variable(labels).cuda()    \n",
    "        \n",
    "    print(\"For one iteration this is what happens = \")\n",
    "    print(\"Input Shape: \",inputs.shape)\n",
    "    print(\"Labels Shape: \",labels.shape)\n",
    "    print(\"Labels are: {}\".format(labels))\n",
    "    \n",
    "    \n",
    "    if torch.cuda.is_available():\n",
    "        net = net.cuda()\n",
    "    output = net(inputs)\n",
    "    \n",
    "    print(\"Output Tensor:\",output)\n",
    "    print(\"Output Shape: \",output.shape)\n",
    "    \n",
    "    _, predicted = torch.max(output,1)\n",
    "    \n",
    "    print(\"Predicted:\",predicted)\n",
    "    print(\"Predicted Shape:\",predicted.shape)\n",
    "    \n",
    "    correct += (predicted==labels).sum()\n",
    "    \n",
    "    print(\"Correct Predictions:\",correct)\n",
    "    \n",
    "    iteration+=1"
   ]
  },
  {
   "cell_type": "markdown",
   "metadata": {},
   "source": [
    "### Train the Network"
   ]
  },
  {
   "cell_type": "code",
   "execution_count": 17,
   "metadata": {},
   "outputs": [
    {
     "name": "stdout",
     "output_type": "stream",
     "text": [
      "[1,    50] running loss: 2.836\n",
      "[1,   100] running loss: 2.203\n",
      "[1,   150] running loss: 1.751\n",
      "[1,   200] running loss: 1.852\n",
      "[1,   250] running loss: 1.848\n",
      "[1,   300] running loss: 1.578\n",
      "[1,   350] running loss: 1.255\n",
      "[1,   400] running loss: 1.506\n",
      "[1,   450] running loss: 1.406\n",
      "[1,   500] running loss: 1.230\n",
      "[1,   550] running loss: 1.366\n",
      "[1,   600] running loss: 1.254\n",
      "[1,    10] validation loss: 1.133\n",
      "[1,    20] validation loss: 0.864\n",
      "[1,    30] validation loss: 1.481\n",
      "[1,    40] validation loss: 1.101\n",
      "[1,    50] validation loss: 0.855\n",
      "[1,    60] validation loss: 1.153\n",
      "[1,    70] validation loss: 1.113\n",
      "[1,    80] validation loss: 1.526\n",
      "Test Accuracy: 68.451%\n",
      "[2,    50] running loss: 1.012\n",
      "[2,   100] running loss: 1.020\n",
      "[2,   150] running loss: 1.072\n",
      "[2,   200] running loss: 0.786\n",
      "[2,   250] running loss: 0.908\n",
      "[2,   300] running loss: 0.816\n",
      "[2,   350] running loss: 0.977\n",
      "[2,   400] running loss: 1.100\n",
      "[2,   450] running loss: 0.792\n",
      "[2,   500] running loss: 1.222\n",
      "[2,   550] running loss: 1.008\n",
      "[2,   600] running loss: 0.984\n",
      "[2,    10] validation loss: 0.935\n",
      "[2,    20] validation loss: 1.660\n",
      "[2,    30] validation loss: 0.933\n",
      "[2,    40] validation loss: 1.254\n",
      "[2,    50] validation loss: 1.525\n",
      "[2,    60] validation loss: 0.581\n",
      "[2,    70] validation loss: 0.505\n",
      "[2,    80] validation loss: 1.125\n",
      "Test Accuracy: 68.169%\n",
      "[3,    50] running loss: 0.849\n",
      "[3,   100] running loss: 0.549\n",
      "[3,   150] running loss: 0.724\n",
      "[3,   200] running loss: 0.431\n",
      "[3,   250] running loss: 0.658\n",
      "[3,   300] running loss: 0.732\n",
      "[3,   350] running loss: 0.538\n",
      "[3,   400] running loss: 0.814\n",
      "[3,   450] running loss: 0.855\n",
      "[3,   500] running loss: 0.578\n",
      "[3,   550] running loss: 0.832\n",
      "[3,   600] running loss: 0.730\n",
      "[3,    10] validation loss: 1.506\n",
      "[3,    20] validation loss: 0.874\n",
      "[3,    30] validation loss: 1.423\n",
      "[3,    40] validation loss: 0.674\n",
      "[3,    50] validation loss: 1.403\n",
      "[3,    60] validation loss: 1.102\n",
      "[3,    70] validation loss: 1.366\n",
      "[3,    80] validation loss: 0.826\n",
      "Test Accuracy: 72.958%\n",
      "[4,    50] running loss: 0.622\n",
      "[4,   100] running loss: 0.579\n",
      "[4,   150] running loss: 0.364\n",
      "[4,   200] running loss: 0.566\n",
      "[4,   250] running loss: 0.744\n",
      "[4,   300] running loss: 0.626\n",
      "[4,   350] running loss: 0.556\n",
      "[4,   400] running loss: 0.472\n",
      "[4,   450] running loss: 0.564\n",
      "[4,   500] running loss: 0.598\n",
      "[4,   550] running loss: 0.590\n",
      "[4,   600] running loss: 0.520\n",
      "[4,    10] validation loss: 1.234\n",
      "[4,    20] validation loss: 0.940\n",
      "[4,    30] validation loss: 0.769\n",
      "[4,    40] validation loss: 0.851\n",
      "[4,    50] validation loss: 1.887\n",
      "[4,    60] validation loss: 0.895\n",
      "[4,    70] validation loss: 0.384\n",
      "[4,    80] validation loss: 1.638\n",
      "Test Accuracy: 76.901%\n",
      "[5,    50] running loss: 0.414\n",
      "[5,   100] running loss: 0.283\n",
      "[5,   150] running loss: 0.251\n",
      "[5,   200] running loss: 0.518\n",
      "[5,   250] running loss: 0.387\n",
      "[5,   300] running loss: 0.437\n",
      "[5,   350] running loss: 1.193\n",
      "[5,   400] running loss: 0.499\n",
      "[5,   450] running loss: 0.636\n",
      "[5,   500] running loss: 0.651\n",
      "[5,   550] running loss: 0.783\n",
      "[5,   600] running loss: 0.939\n",
      "[5,    10] validation loss: 2.018\n",
      "[5,    20] validation loss: 0.877\n",
      "[5,    30] validation loss: 1.775\n",
      "[5,    40] validation loss: 0.983\n",
      "[5,    50] validation loss: 1.157\n",
      "[5,    60] validation loss: 2.313\n",
      "[5,    70] validation loss: 1.871\n",
      "[5,    80] validation loss: 1.316\n",
      "Test Accuracy: 70.141%\n",
      "[6,    50] running loss: 0.776\n",
      "[6,   100] running loss: 0.651\n",
      "[6,   150] running loss: 0.433\n",
      "[6,   200] running loss: 0.423\n",
      "[6,   250] running loss: 0.340\n",
      "[6,   300] running loss: 0.510\n",
      "[6,   350] running loss: 0.628\n",
      "[6,   400] running loss: 0.487\n",
      "[6,   450] running loss: 0.317\n",
      "[6,   500] running loss: 0.590\n",
      "[6,   550] running loss: 0.606\n",
      "[6,   600] running loss: 0.517\n",
      "[6,    10] validation loss: 1.771\n",
      "[6,    20] validation loss: 1.410\n",
      "[6,    30] validation loss: 1.426\n",
      "[6,    40] validation loss: 2.086\n",
      "[6,    50] validation loss: 1.140\n",
      "[6,    60] validation loss: 1.301\n",
      "[6,    70] validation loss: 1.516\n",
      "[6,    80] validation loss: 0.867\n",
      "Test Accuracy: 73.521%\n",
      "[7,    50] running loss: 0.579\n",
      "[7,   100] running loss: 0.616\n",
      "[7,   150] running loss: 0.281\n",
      "[7,   200] running loss: 0.468\n",
      "[7,   250] running loss: 0.519\n",
      "[7,   300] running loss: 0.385\n",
      "[7,   350] running loss: 0.293\n",
      "[7,   400] running loss: 0.318\n",
      "[7,   450] running loss: 0.615\n",
      "[7,   500] running loss: 0.536\n",
      "[7,   550] running loss: 0.455\n",
      "[7,   600] running loss: 0.868\n",
      "[7,    10] validation loss: 1.296\n",
      "[7,    20] validation loss: 1.669\n",
      "[7,    30] validation loss: 3.561\n",
      "[7,    40] validation loss: 2.452\n",
      "[7,    50] validation loss: 1.157\n",
      "[7,    60] validation loss: 1.047\n",
      "[7,    70] validation loss: 1.780\n",
      "[7,    80] validation loss: 1.450\n",
      "Test Accuracy: 67.606%\n",
      "[8,    50] running loss: 1.087\n",
      "[8,   100] running loss: 0.210\n",
      "[8,   150] running loss: 0.183\n",
      "[8,   200] running loss: 0.262\n",
      "[8,   250] running loss: 0.200\n",
      "[8,   300] running loss: 0.113\n",
      "[8,   350] running loss: 0.245\n",
      "[8,   400] running loss: 0.128\n",
      "[8,   450] running loss: 0.146\n",
      "[8,   500] running loss: 0.159\n",
      "[8,   550] running loss: 0.081\n",
      "[8,   600] running loss: 0.188\n",
      "[8,    10] validation loss: 1.052\n",
      "[8,    20] validation loss: 0.792\n",
      "[8,    30] validation loss: 0.635\n",
      "[8,    40] validation loss: 1.272\n",
      "[8,    50] validation loss: 1.034\n",
      "[8,    60] validation loss: 0.070\n",
      "[8,    70] validation loss: 0.568\n",
      "[8,    80] validation loss: 0.489\n",
      "Test Accuracy: 81.690%\n",
      "[9,    50] running loss: 0.145\n",
      "[9,   100] running loss: 0.104\n",
      "[9,   150] running loss: 0.048\n",
      "[9,   200] running loss: 0.090\n",
      "[9,   250] running loss: 0.128\n",
      "[9,   300] running loss: 0.138\n",
      "[9,   350] running loss: 0.127\n",
      "[9,   400] running loss: 0.077\n",
      "[9,   450] running loss: 0.101\n",
      "[9,   500] running loss: 0.162\n",
      "[9,   550] running loss: 0.134\n",
      "[9,   600] running loss: 0.091\n",
      "[9,    10] validation loss: 0.407\n",
      "[9,    20] validation loss: 1.367\n",
      "[9,    30] validation loss: 0.580\n",
      "[9,    40] validation loss: 0.889\n",
      "[9,    50] validation loss: 0.517\n",
      "[9,    60] validation loss: 0.510\n",
      "[9,    70] validation loss: 1.380\n",
      "[9,    80] validation loss: 0.524\n",
      "Test Accuracy: 84.225%\n",
      "[10,    50] running loss: 0.060\n",
      "[10,   100] running loss: 0.099\n",
      "[10,   150] running loss: 0.128\n",
      "[10,   200] running loss: 0.141\n",
      "[10,   250] running loss: 0.120\n",
      "[10,   300] running loss: 0.099\n",
      "[10,   350] running loss: 0.135\n",
      "[10,   400] running loss: 0.103\n",
      "[10,   450] running loss: 0.046\n",
      "[10,   500] running loss: 0.068\n",
      "[10,   550] running loss: 0.081\n",
      "[10,   600] running loss: 0.122\n",
      "[10,    10] validation loss: 0.549\n",
      "[10,    20] validation loss: 0.462\n",
      "[10,    30] validation loss: 0.673\n",
      "[10,    40] validation loss: 0.586\n",
      "[10,    50] validation loss: 0.491\n",
      "[10,    60] validation loss: 0.812\n",
      "[10,    70] validation loss: 0.363\n",
      "[10,    80] validation loss: 0.989\n",
      "Test Accuracy: 81.408%\n",
      "[11,    50] running loss: 0.181\n",
      "[11,   100] running loss: 0.065\n",
      "[11,   150] running loss: 0.080\n",
      "[11,   200] running loss: 0.145\n",
      "[11,   250] running loss: 0.115\n",
      "[11,   300] running loss: 0.068\n",
      "[11,   350] running loss: 0.038\n",
      "[11,   400] running loss: 0.094\n",
      "[11,   450] running loss: 0.033\n",
      "[11,   500] running loss: 0.054\n",
      "[11,   550] running loss: 0.083\n",
      "[11,   600] running loss: 0.040\n",
      "[11,    10] validation loss: 0.824\n",
      "[11,    20] validation loss: 0.887\n",
      "[11,    30] validation loss: 0.528\n",
      "[11,    40] validation loss: 0.540\n",
      "[11,    50] validation loss: 0.798\n",
      "[11,    60] validation loss: 1.029\n",
      "[11,    70] validation loss: 0.401\n",
      "[11,    80] validation loss: 0.829\n",
      "Test Accuracy: 82.535%\n",
      "[12,    50] running loss: 0.049\n",
      "[12,   100] running loss: 0.063\n",
      "[12,   150] running loss: 0.040\n",
      "[12,   200] running loss: 0.061\n",
      "[12,   250] running loss: 0.033\n",
      "[12,   300] running loss: 0.081\n",
      "[12,   350] running loss: 0.216\n",
      "[12,   400] running loss: 0.096\n",
      "[12,   450] running loss: 0.074\n",
      "[12,   500] running loss: 0.090\n",
      "[12,   550] running loss: 0.061\n",
      "[12,   600] running loss: 0.054\n",
      "[12,    10] validation loss: 1.153\n",
      "[12,    20] validation loss: 0.415\n",
      "[12,    30] validation loss: 0.772\n",
      "[12,    40] validation loss: 0.444\n",
      "[12,    50] validation loss: 0.669\n",
      "[12,    60] validation loss: 1.002\n",
      "[12,    70] validation loss: 0.783\n",
      "[12,    80] validation loss: 1.012\n",
      "Test Accuracy: 83.380%\n",
      "[13,    50] running loss: 0.039\n",
      "[13,   100] running loss: 0.025\n",
      "[13,   150] running loss: 0.041\n",
      "[13,   200] running loss: 0.047\n",
      "[13,   250] running loss: 0.040\n"
     ]
    },
    {
     "name": "stdout",
     "output_type": "stream",
     "text": [
      "[13,   300] running loss: 0.068\n",
      "[13,   350] running loss: 0.115\n",
      "[13,   400] running loss: 0.067\n",
      "[13,   450] running loss: 0.042\n",
      "[13,   500] running loss: 0.032\n",
      "[13,   550] running loss: 0.061\n",
      "[13,   600] running loss: 0.079\n",
      "[13,    10] validation loss: 0.714\n",
      "[13,    20] validation loss: 0.176\n",
      "[13,    30] validation loss: 1.217\n",
      "[13,    40] validation loss: 0.406\n",
      "[13,    50] validation loss: 0.933\n",
      "[13,    60] validation loss: 0.666\n",
      "[13,    70] validation loss: 0.481\n",
      "[13,    80] validation loss: 0.441\n",
      "Test Accuracy: 86.761%\n",
      "[14,    50] running loss: 0.028\n",
      "[14,   100] running loss: 0.076\n",
      "[14,   150] running loss: 0.046\n",
      "[14,   200] running loss: 0.045\n",
      "[14,   250] running loss: 0.065\n",
      "[14,   300] running loss: 0.094\n",
      "[14,   350] running loss: 0.017\n",
      "[14,   400] running loss: 0.052\n",
      "[14,   450] running loss: 0.013\n",
      "[14,   500] running loss: 0.066\n",
      "[14,   550] running loss: 0.031\n",
      "[14,   600] running loss: 0.022\n",
      "[14,    10] validation loss: 0.422\n",
      "[14,    20] validation loss: 1.272\n",
      "[14,    30] validation loss: 0.745\n",
      "[14,    40] validation loss: 0.665\n",
      "[14,    50] validation loss: 0.928\n",
      "[14,    60] validation loss: 0.268\n",
      "[14,    70] validation loss: 0.423\n",
      "[14,    80] validation loss: 0.884\n",
      "Test Accuracy: 83.380%\n",
      "[15,    50] running loss: 0.045\n",
      "[15,   100] running loss: 0.093\n",
      "[15,   150] running loss: 0.013\n",
      "[15,   200] running loss: 0.040\n",
      "[15,   250] running loss: 0.016\n",
      "[15,   300] running loss: 0.020\n",
      "[15,   350] running loss: 0.100\n",
      "[15,   400] running loss: 0.028\n",
      "[15,   450] running loss: 0.046\n",
      "[15,   500] running loss: 0.026\n",
      "[15,   550] running loss: 0.044\n",
      "[15,   600] running loss: 0.081\n",
      "[15,    10] validation loss: 0.833\n",
      "[15,    20] validation loss: 0.233\n",
      "[15,    30] validation loss: 0.995\n",
      "[15,    40] validation loss: 1.311\n",
      "[15,    50] validation loss: 0.926\n",
      "[15,    60] validation loss: 0.693\n",
      "[15,    70] validation loss: 0.757\n",
      "[15,    80] validation loss: 0.963\n",
      "Test Accuracy: 82.817%\n",
      "[16,    50] running loss: 0.035\n",
      "[16,   100] running loss: 0.033\n",
      "[16,   150] running loss: 0.025\n",
      "[16,   200] running loss: 0.101\n",
      "[16,   250] running loss: 0.024\n",
      "[16,   300] running loss: 0.024\n",
      "[16,   350] running loss: 0.029\n",
      "[16,   400] running loss: 0.062\n",
      "[16,   450] running loss: 0.034\n",
      "[16,   500] running loss: 0.028\n",
      "[16,   550] running loss: 0.039\n",
      "[16,   600] running loss: 0.060\n",
      "[16,    10] validation loss: 1.641\n",
      "[16,    20] validation loss: 0.164\n",
      "[16,    30] validation loss: 1.339\n",
      "[16,    40] validation loss: 0.594\n",
      "[16,    50] validation loss: 0.845\n",
      "[16,    60] validation loss: 0.613\n",
      "[16,    70] validation loss: 0.831\n",
      "[16,    80] validation loss: 0.331\n",
      "Test Accuracy: 82.817%\n",
      "[17,    50] running loss: 0.029\n",
      "[17,   100] running loss: 0.048\n",
      "[17,   150] running loss: 0.028\n",
      "[17,   200] running loss: 0.025\n",
      "[17,   250] running loss: 0.025\n",
      "[17,   300] running loss: 0.020\n",
      "[17,   350] running loss: 0.028\n",
      "[17,   400] running loss: 0.044\n",
      "[17,   450] running loss: 0.030\n",
      "[17,   500] running loss: 0.016\n",
      "[17,   550] running loss: 0.067\n",
      "[17,   600] running loss: 0.025\n",
      "[17,    10] validation loss: 0.643\n",
      "[17,    20] validation loss: 0.827\n",
      "[17,    30] validation loss: 0.405\n",
      "[17,    40] validation loss: 0.507\n",
      "[17,    50] validation loss: 1.100\n",
      "[17,    60] validation loss: 1.022\n",
      "[17,    70] validation loss: 0.429\n",
      "[17,    80] validation loss: 0.271\n",
      "Test Accuracy: 84.789%\n",
      "[18,    50] running loss: 0.049\n",
      "[18,   100] running loss: 0.045\n",
      "[18,   150] running loss: 0.031\n",
      "[18,   200] running loss: 0.053\n",
      "[18,   250] running loss: 0.035\n",
      "[18,   300] running loss: 0.028\n",
      "[18,   350] running loss: 0.035\n",
      "[18,   400] running loss: 0.040\n",
      "[18,   450] running loss: 0.021\n",
      "[18,   500] running loss: 0.042\n",
      "[18,   550] running loss: 0.088\n",
      "[18,   600] running loss: 0.035\n",
      "[18,    10] validation loss: 0.397\n",
      "[18,    20] validation loss: 0.531\n",
      "[18,    30] validation loss: 1.009\n",
      "[18,    40] validation loss: 0.611\n",
      "[18,    50] validation loss: 0.664\n",
      "[18,    60] validation loss: 0.587\n",
      "[18,    70] validation loss: 0.454\n",
      "[18,    80] validation loss: 0.930\n",
      "Test Accuracy: 83.662%\n",
      "[19,    50] running loss: 0.051\n",
      "[19,   100] running loss: 0.029\n",
      "[19,   150] running loss: 0.027\n",
      "[19,   200] running loss: 0.037\n",
      "[19,   250] running loss: 0.033\n",
      "[19,   300] running loss: 0.053\n",
      "[19,   350] running loss: 0.041\n",
      "[19,   400] running loss: 0.023\n",
      "[19,   450] running loss: 0.033\n",
      "[19,   500] running loss: 0.051\n",
      "[19,   550] running loss: 0.045\n",
      "[19,   600] running loss: 0.028\n",
      "[19,    10] validation loss: 0.780\n",
      "[19,    20] validation loss: 0.459\n",
      "[19,    30] validation loss: 0.987\n",
      "[19,    40] validation loss: 0.390\n",
      "[19,    50] validation loss: 1.040\n",
      "[19,    60] validation loss: 0.886\n",
      "[19,    70] validation loss: 0.482\n",
      "[19,    80] validation loss: 0.721\n",
      "Test Accuracy: 83.099%\n",
      "[20,    50] running loss: 0.056\n",
      "[20,   100] running loss: 0.064\n",
      "[20,   150] running loss: 0.040\n",
      "[20,   200] running loss: 0.031\n",
      "[20,   250] running loss: 0.033\n",
      "[20,   300] running loss: 0.040\n",
      "[20,   350] running loss: 0.039\n",
      "[20,   400] running loss: 0.021\n",
      "[20,   450] running loss: 0.017\n",
      "[20,   500] running loss: 0.014\n",
      "[20,   550] running loss: 0.027\n",
      "[20,   600] running loss: 0.092\n",
      "[20,    10] validation loss: 0.474\n",
      "[20,    20] validation loss: 0.830\n",
      "[20,    30] validation loss: 0.769\n",
      "[20,    40] validation loss: 0.745\n",
      "[20,    50] validation loss: 0.945\n",
      "[20,    60] validation loss: 0.462\n",
      "[20,    70] validation loss: 0.553\n",
      "[20,    80] validation loss: 0.881\n",
      "Test Accuracy: 84.789%\n",
      "Finished Training\n"
     ]
    }
   ],
   "source": [
    "loss_list = []\n",
    "validation_list = []\n",
    "test_accuracy_list = []\n",
    "\n",
    "for epoch in range(20):  # change this to 20\n",
    "    \n",
    "    correct = 0\n",
    "    total = 0\n",
    "\n",
    "    running_loss = 0.0\n",
    "    validation_loss = 0.0\n",
    "    \n",
    "    scheduler.step()\n",
    "    \n",
    "    for i, data in enumerate(trainloader, 0):\n",
    "        # get the inputs\n",
    "        inputs, labels = data\n",
    "        \n",
    "        if torch.cuda.is_available():\n",
    "            inputs = inputs.cuda()\n",
    "            labels = labels.cuda()\n",
    "        \n",
    "        # zero the parameter gradients\n",
    "        optimizer.zero_grad()\n",
    "\n",
    "        # forward + backward + optimize\n",
    "        outputs = net(inputs)\n",
    "        loss = criterion(outputs, labels)\n",
    "        loss.backward()\n",
    "        optimizer.step()\n",
    "\n",
    "        # print statistics\n",
    "        running_loss += loss.item()\n",
    "        \n",
    "        if i % 50 == 49:    \n",
    "            \n",
    "            loss_list.append(running_loss/50)\n",
    "            \n",
    "            print('[%d, %5d] running loss: %.3f' %\n",
    "                  (epoch + 1, i + 1, running_loss / 50))\n",
    "            running_loss = 0.0\n",
    "        \n",
    "    for i, data in enumerate(valloader, 0):\n",
    "        \n",
    "        inputs, labels = data\n",
    "        \n",
    "        if torch.cuda.is_available():\n",
    "            inputs = inputs.cuda()\n",
    "            labels = labels.cuda()\n",
    "\n",
    "        outputs = net(inputs)\n",
    "        val_loss = criterion(outputs, labels)\n",
    "        validation_loss += val_loss.item()\n",
    "        \n",
    "        if i % 10 == 9:    \n",
    "            \n",
    "            validation_list.append(validation_loss/10)\n",
    "            \n",
    "            print('[%d, %5d] validation loss: %.3f' %\n",
    "                  (epoch + 1, i + 1, validation_loss/10))\n",
    "            \n",
    "            validation_loss = 0.0\n",
    "            \n",
    "        _, predicted = torch.max(outputs.data, 1)\n",
    "        total += labels.size(0)\n",
    "        correct += (predicted == labels).sum().item()    \n",
    "    \n",
    "    print(\"Test Accuracy: {:.3f}%\".format(100*correct/total))\n",
    "    \n",
    "    test_accuracy = 100*correct/total\n",
    "    \n",
    "    test_accuracy_list.append(test_accuracy)\n",
    "        \n",
    "print('Finished Training')"
   ]
  },
  {
   "cell_type": "markdown",
   "metadata": {
    "scrolled": true
   },
   "source": [
    "##### Visualise the loss and accuracy\n",
    "Using the loss of both training data and validation data to evaluate the model."
   ]
  },
  {
   "cell_type": "code",
   "execution_count": 18,
   "metadata": {},
   "outputs": [
    {
     "name": "stdout",
     "output_type": "stream",
     "text": [
      "running_lost_list_per_epoch= [1.2535539042949677, 0.984057252407074, 0.730007131099701, 0.5201488280296326, 0.9385671925544739, 0.5171084606647491, 0.8678104770183563, 0.1883765649795532, 0.09058485388755798, 0.1219398832321167, 0.03985455870628357, 0.05439105749130249, 0.07920896530151367, 0.02204742670059204, 0.08110043823719025, 0.05952279567718506, 0.024658935070037843, 0.03477862477302551, 0.027891862392425536, 0.09224603056907654]\n",
      "running_lost_list_per_epoch= [1.5259523034095763, 1.1247795522212982, 0.8264843702316285, 1.6379618227481842, 1.316255223751068, 0.8670763313770294, 1.4500765442848205, 0.48919457793235777, 0.52429319024086, 0.9887516796588898, 0.829174029827118, 1.0120654702186584, 0.44059160351753235, 0.8842115223407745, 0.9626015245914459, 0.3314852774143219, 0.2713359534740448, 0.9295830726623535, 0.721446406841278, 0.8813331544399261]\n"
     ]
    },
    {
     "data": {
      "text/plain": [
       "<matplotlib.figure.Figure at 0x128230b2898>"
      ]
     },
     "execution_count": 18,
     "metadata": {},
     "output_type": "execute_result"
    },
    {
     "data": {
      "image/png": "[encoded data removed]",
      "text/plain": [
       "<matplotlib.figure.Figure at 0x12821af22b0>"
      ]
     },
     "metadata": {},
     "output_type": "display_data"
    },
    {
     "data": {
      "image/png": "[encoded data removed]",
      "text/plain": [
       "<matplotlib.figure.Figure at 0x128230a61d0>"
      ]
     },
     "metadata": {},
     "output_type": "display_data"
    },
    {
     "data": {
      "text/plain": [
       "<matplotlib.figure.Figure at 0x128230b2898>"
      ]
     },
     "metadata": {},
     "output_type": "display_data"
    }
   ],
   "source": [
    "import matplotlib.pyplot as plt\n",
    "import numpy as np\n",
    "%matplotlib inline\n",
    "\n",
    "running_loss_list_per_epoch = loss_list[11::12]\n",
    "\n",
    "print('running_lost_list_per_epoch=',running_loss_list_per_epoch)\n",
    "\n",
    "validation_loss_list_per_epoch = validation_list[7::8]\n",
    "\n",
    "print('running_lost_list_per_epoch=',validation_loss_list_per_epoch)\n",
    "\n",
    "plt.plot(range(len(running_loss_list_per_epoch)),running_loss_list_per_epoch)\n",
    "\n",
    "plt.plot(range(len(validation_loss_list_per_epoch)),validation_loss_list_per_epoch) \n",
    "\n",
    "plt.xlabel('Epoch')\n",
    "plt.ylabel('Loss')\n",
    "plt.legend(['Training Loss','Validation Loss'])\n",
    "\n",
    "plt.figure()\n",
    "\n",
    "plt.plot(range(len(test_accuracy_list)), test_accuracy_list)\n",
    "plt.xlabel('Epoch')\n",
    "plt.ylabel('Accuracy')\n",
    "plt.figure()"
   ]
  },
  {
   "cell_type": "markdown",
   "metadata": {},
   "source": [
    "### Eval the trained network"
   ]
  },
  {
   "cell_type": "code",
   "execution_count": 19,
   "metadata": {},
   "outputs": [
    {
     "name": "stdout",
     "output_type": "stream",
     "text": [
      "Test Accuracy: 83.099 %\n"
     ]
    }
   ],
   "source": [
    "# net.eval()\n",
    "def eval_net(net, valloader):\n",
    "    correct = 0\n",
    "    total = 0\n",
    "    \n",
    "    with torch.no_grad():\n",
    "        \n",
    "        for data in valloader:\n",
    "            \n",
    "            images, labels = data\n",
    "            \n",
    "            if torch.cuda.is_available():\n",
    "                images = images.cuda()\n",
    "                labels = labels.cuda()\n",
    "            \n",
    "            outputs = net(images)\n",
    "            _, predicted = torch.max(outputs.data, 1)\n",
    "            total += labels.size(0)\n",
    "            correct += (predicted == labels).sum().item()\n",
    "\n",
    "    print('Test Accuracy: {:.3f} %'.format(100*correct/total))\n",
    "\n",
    "eval_net(net, valloader)"
   ]
  },
  {
   "cell_type": "markdown",
   "metadata": {},
   "source": [
    "### Visualise Our Predictions"
   ]
  },
  {
   "cell_type": "code",
   "execution_count": 20,
   "metadata": {},
   "outputs": [
    {
     "data": {
      "image/png": "[encoded data removed]",
      "text/plain": [
       "<matplotlib.figure.Figure at 0x128232e64a8>"
      ]
     },
     "metadata": {},
     "output_type": "display_data"
    }
   ],
   "source": [
    "import matplotlib.pyplot as plt\n",
    "fig = plt.figure()\n",
    "shown_batch = 0\n",
    "index = 0\n",
    "\n",
    "with torch.no_grad():\n",
    "    for(images, labels) in dataloaders['val']:\n",
    "        if shown_batch ==1:\n",
    "            break\n",
    "        shown_batch += 1\n",
    "        images = Variable(images)\n",
    "        labels = Variable(labels)\n",
    "        if torch.cuda.is_available():\n",
    "            images = images.cuda()\n",
    "            labels = labels.cuda()\n",
    "            \n",
    "        outputs = net(images) # the output has shape (4,18)\n",
    "        _,preds = torch.max(outputs,1) # the pred has shape [0-17,0-17,0-17,0-17]\n",
    "        \n",
    "        for i in range(4):\n",
    "            index += 1\n",
    "            ax = plt.subplot(2,2,index)\n",
    "            ax.axis('off')\n",
    "            ax.set_title('Predicted Label: {}'.format(class_names[preds[i]]))\n",
    "            input_img = images.cpu().data[i] # get the tensor of the image and put it to cpu\n",
    "            inp = input_img.numpy().transpose((1,2,0)) # if we have (1,2,3) -> (2,3,1)\n",
    "            mean = np.array([0.485, 0.456, 0.406])\n",
    "            std = np.array([0.229, 0.224, 0.225])\n",
    "            inp = (std*inp) + mean\n",
    "            inp = np.clip(inp,0,1)\n",
    "            plt.imshow(inp)"
   ]
  },
  {
   "cell_type": "markdown",
   "metadata": {},
   "source": [
    "### References\n",
    "- https://www.w3schools.com/python/python_dictionaries.asp\n",
    "- https://www.programcreek.com/python/example/105102/torchvision.datasets.ImageFolder\n",
    "- https://stackoverflow.com/questions/14826888/python-os-path-join-on-a-list\n",
    "- https://github.com/pytorch/vision/tree/master/torchvision/models"
   ]
  },
  {
   "cell_type": "code",
   "execution_count": 21,
   "metadata": {
    "collapsed": true
   },
   "outputs": [],
   "source": [
    "# save the model\n",
    "torch.save(net.state_dict(),'vgg.pth')"
   ]
  },
  {
   "cell_type": "code",
   "execution_count": null,
   "metadata": {
    "collapsed": true
   },
   "outputs": [],
   "source": [
    "# load the model\n",
    "net = Network(pretrained = True)\n",
    "net.load_state_dict(torch.load('resnet18.pth'))\n",
    "net.eval()"
   ]
  },
  {
   "cell_type": "markdown",
   "metadata": {},
   "source": [
    "### Stuff"
   ]
  },
  {
   "cell_type": "code",
   "execution_count": 16,
   "metadata": {},
   "outputs": [
    {
     "name": "stdout",
     "output_type": "stream",
     "text": [
      "{'thelion': 'catthelion', 'thetiger': 'catthetiger'}\n"
     ]
    }
   ],
   "source": [
    "# simple stuff\n",
    "#animals = {\n",
    "    #\"lion\": \"roar\",\n",
    "    #\"tiger\": \"roarrr\"\n",
    "#}\n",
    "dog = {x: 'cat' + x for x in ['thelion','thetiger']}\n",
    "print(dog)"
   ]
  },
  {
   "cell_type": "code",
   "execution_count": 17,
   "metadata": {},
   "outputs": [
    {
     "name": "stdout",
     "output_type": "stream",
     "text": [
      "[[[0, 0], [0, 1], [0, 2], [0, 3], [0, 4], [0, 5], [0, 6], [0, 7], [0, 8], [0, 9]], [[1, 0], [1, 1], [1, 2], [1, 3], [1, 4], [1, 5], [1, 6], [1, 7], [1, 8], [1, 9]]]\n"
     ]
    }
   ],
   "source": [
    "listoflists = []\n",
    "\n",
    "for i in range(0,2):\n",
    "    sublist = []\n",
    "    \n",
    "    for j in range(0,10):\n",
    "        \n",
    "        sublist.append([i,j])\n",
    "        \n",
    "    listoflists.append(sublist)\n",
    "    \n",
    "print(listoflists)"
   ]
  },
  {
   "cell_type": "code",
   "execution_count": 18,
   "metadata": {},
   "outputs": [
    {
     "name": "stdout",
     "output_type": "stream",
     "text": [
      "inputs = 1 labels = 2\n",
      "inputs = 2 labels = 5\n",
      "inputs = 3 labels = 6\n"
     ]
    }
   ],
   "source": [
    "dataload_ = {\n",
    "    'the_train' : [[1,2],[2,5],[3,6]],\n",
    "    3 : 4,\n",
    "    5 : 6,\n",
    "    7 : 8\n",
    "}\n",
    "\n",
    "for in_, la_ in dataload_['the_train']:\n",
    "    \n",
    "    print(\"inputs = {0} labels = {1}\".format(in_,la_))\n",
    "\n",
    "# for inputs,labels in dataloaders['train']:\n"
   ]
  },
  {
   "cell_type": "code",
   "execution_count": 19,
   "metadata": {},
   "outputs": [
    {
     "data": {
      "text/plain": [
       "'int: 42;  hex: 0x9;  oct: 0o12;  bin: 0b1011'"
      ]
     },
     "execution_count": 19,
     "metadata": {},
     "output_type": "execute_result"
    }
   ],
   "source": [
    "\"int: {:d};  hex: {:#x};  oct: {:#o};  bin: {:#b}\".format(42,9,10,11)"
   ]
  }
 ],
 "metadata": {
  "kernelspec": {
   "display_name": "Python 3",
   "language": "python",
   "name": "python3"
  },
  "language_info": {
   "codemirror_mode": {
    "name": "ipython",
    "version": 3
   },
   "file_extension": ".py",
   "mimetype": "text/x-python",
   "name": "python",
   "nbconvert_exporter": "python",
   "pygments_lexer": "ipython3",
   "version": "3.6.3"
  }
 },
 "nbformat": 4,
 "nbformat_minor": 2
}
